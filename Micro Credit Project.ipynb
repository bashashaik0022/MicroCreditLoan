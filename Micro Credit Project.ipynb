{
 "cells": [
  {
   "cell_type": "code",
   "execution_count": 1,
   "metadata": {
    "id": "dsCLCQo2voQ9"
   },
   "outputs": [],
   "source": [
    "import numpy as np\n",
    "import pandas as pd \n",
    "import sklearn\n",
    "import seaborn as sb\n",
    "import matplotlib.pyplot as plt"
   ]
  },
  {
   "cell_type": "code",
   "execution_count": 3,
   "metadata": {
    "colab": {
     "base_uri": "https://localhost:8080/",
     "height": 73,
     "resources": {
      "http://localhost:8080/nbextensions/google.colab/files.js": {
       "data": "Ly8gQ29weXJpZ2h0IDIwMTcgR29vZ2xlIExMQwovLwovLyBMaWNlbnNlZCB1bmRlciB0aGUgQXBhY2hlIExpY2Vuc2UsIFZlcnNpb24gMi4wICh0aGUgIkxpY2Vuc2UiKTsKLy8geW91IG1heSBub3QgdXNlIHRoaXMgZmlsZSBleGNlcHQgaW4gY29tcGxpYW5jZSB3aXRoIHRoZSBMaWNlbnNlLgovLyBZb3UgbWF5IG9idGFpbiBhIGNvcHkgb2YgdGhlIExpY2Vuc2UgYXQKLy8KLy8gICAgICBodHRwOi8vd3d3LmFwYWNoZS5vcmcvbGljZW5zZXMvTElDRU5TRS0yLjAKLy8KLy8gVW5sZXNzIHJlcXVpcmVkIGJ5IGFwcGxpY2FibGUgbGF3IG9yIGFncmVlZCB0byBpbiB3cml0aW5nLCBzb2Z0d2FyZQovLyBkaXN0cmlidXRlZCB1bmRlciB0aGUgTGljZW5zZSBpcyBkaXN0cmlidXRlZCBvbiBhbiAiQVMgSVMiIEJBU0lTLAovLyBXSVRIT1VUIFdBUlJBTlRJRVMgT1IgQ09ORElUSU9OUyBPRiBBTlkgS0lORCwgZWl0aGVyIGV4cHJlc3Mgb3IgaW1wbGllZC4KLy8gU2VlIHRoZSBMaWNlbnNlIGZvciB0aGUgc3BlY2lmaWMgbGFuZ3VhZ2UgZ292ZXJuaW5nIHBlcm1pc3Npb25zIGFuZAovLyBsaW1pdGF0aW9ucyB1bmRlciB0aGUgTGljZW5zZS4KCi8qKgogKiBAZmlsZW92ZXJ2aWV3IEhlbHBlcnMgZm9yIGdvb2dsZS5jb2xhYiBQeXRob24gbW9kdWxlLgogKi8KKGZ1bmN0aW9uKHNjb3BlKSB7CmZ1bmN0aW9uIHNwYW4odGV4dCwgc3R5bGVBdHRyaWJ1dGVzID0ge30pIHsKICBjb25zdCBlbGVtZW50ID0gZG9jdW1lbnQuY3JlYXRlRWxlbWVudCgnc3BhbicpOwogIGVsZW1lbnQudGV4dENvbnRlbnQgPSB0ZXh0OwogIGZvciAoY29uc3Qga2V5IG9mIE9iamVjdC5rZXlzKHN0eWxlQXR0cmlidXRlcykpIHsKICAgIGVsZW1lbnQuc3R5bGVba2V5XSA9IHN0eWxlQXR0cmlidXRlc1trZXldOwogIH0KICByZXR1cm4gZWxlbWVudDsKfQoKLy8gTWF4IG51bWJlciBvZiBieXRlcyB3aGljaCB3aWxsIGJlIHVwbG9hZGVkIGF0IGEgdGltZS4KY29uc3QgTUFYX1BBWUxPQURfU0laRSA9IDEwMCAqIDEwMjQ7CgpmdW5jdGlvbiBfdXBsb2FkRmlsZXMoaW5wdXRJZCwgb3V0cHV0SWQpIHsKICBjb25zdCBzdGVwcyA9IHVwbG9hZEZpbGVzU3RlcChpbnB1dElkLCBvdXRwdXRJZCk7CiAgY29uc3Qgb3V0cHV0RWxlbWVudCA9IGRvY3VtZW50LmdldEVsZW1lbnRCeUlkKG91dHB1dElkKTsKICAvLyBDYWNoZSBzdGVwcyBvbiB0aGUgb3V0cHV0RWxlbWVudCB0byBtYWtlIGl0IGF2YWlsYWJsZSBmb3IgdGhlIG5leHQgY2FsbAogIC8vIHRvIHVwbG9hZEZpbGVzQ29udGludWUgZnJvbSBQeXRob24uCiAgb3V0cHV0RWxlbWVudC5zdGVwcyA9IHN0ZXBzOwoKICByZXR1cm4gX3VwbG9hZEZpbGVzQ29udGludWUob3V0cHV0SWQpOwp9CgovLyBUaGlzIGlzIHJvdWdobHkgYW4gYXN5bmMgZ2VuZXJhdG9yIChub3Qgc3VwcG9ydGVkIGluIHRoZSBicm93c2VyIHlldCksCi8vIHdoZXJlIHRoZXJlIGFyZSBtdWx0aXBsZSBhc3luY2hyb25vdXMgc3RlcHMgYW5kIHRoZSBQeXRob24gc2lkZSBpcyBnb2luZwovLyB0byBwb2xsIGZvciBjb21wbGV0aW9uIG9mIGVhY2ggc3RlcC4KLy8gVGhpcyB1c2VzIGEgUHJvbWlzZSB0byBibG9jayB0aGUgcHl0aG9uIHNpZGUgb24gY29tcGxldGlvbiBvZiBlYWNoIHN0ZXAsCi8vIHRoZW4gcGFzc2VzIHRoZSByZXN1bHQgb2YgdGhlIHByZXZpb3VzIHN0ZXAgYXMgdGhlIGlucHV0IHRvIHRoZSBuZXh0IHN0ZXAuCmZ1bmN0aW9uIF91cGxvYWRGaWxlc0NvbnRpbnVlKG91dHB1dElkKSB7CiAgY29uc3Qgb3V0cHV0RWxlbWVudCA9IGRvY3VtZW50LmdldEVsZW1lbnRCeUlkKG91dHB1dElkKTsKICBjb25zdCBzdGVwcyA9IG91dHB1dEVsZW1lbnQuc3RlcHM7CgogIGNvbnN0IG5leHQgPSBzdGVwcy5uZXh0KG91dHB1dEVsZW1lbnQubGFzdFByb21pc2VWYWx1ZSk7CiAgcmV0dXJuIFByb21pc2UucmVzb2x2ZShuZXh0LnZhbHVlLnByb21pc2UpLnRoZW4oKHZhbHVlKSA9PiB7CiAgICAvLyBDYWNoZSB0aGUgbGFzdCBwcm9taXNlIHZhbHVlIHRvIG1ha2UgaXQgYXZhaWxhYmxlIHRvIHRoZSBuZXh0CiAgICAvLyBzdGVwIG9mIHRoZSBnZW5lcmF0b3IuCiAgICBvdXRwdXRFbGVtZW50Lmxhc3RQcm9taXNlVmFsdWUgPSB2YWx1ZTsKICAgIHJldHVybiBuZXh0LnZhbHVlLnJlc3BvbnNlOwogIH0pOwp9CgovKioKICogR2VuZXJhdG9yIGZ1bmN0aW9uIHdoaWNoIGlzIGNhbGxlZCBiZXR3ZWVuIGVhY2ggYXN5bmMgc3RlcCBvZiB0aGUgdXBsb2FkCiAqIHByb2Nlc3MuCiAqIEBwYXJhbSB7c3RyaW5nfSBpbnB1dElkIEVsZW1lbnQgSUQgb2YgdGhlIGlucHV0IGZpbGUgcGlja2VyIGVsZW1lbnQuCiAqIEBwYXJhbSB7c3RyaW5nfSBvdXRwdXRJZCBFbGVtZW50IElEIG9mIHRoZSBvdXRwdXQgZGlzcGxheS4KICogQHJldHVybiB7IUl0ZXJhYmxlPCFPYmplY3Q+fSBJdGVyYWJsZSBvZiBuZXh0IHN0ZXBzLgogKi8KZnVuY3Rpb24qIHVwbG9hZEZpbGVzU3RlcChpbnB1dElkLCBvdXRwdXRJZCkgewogIGNvbnN0IGlucHV0RWxlbWVudCA9IGRvY3VtZW50LmdldEVsZW1lbnRCeUlkKGlucHV0SWQpOwogIGlucHV0RWxlbWVudC5kaXNhYmxlZCA9IGZhbHNlOwoKICBjb25zdCBvdXRwdXRFbGVtZW50ID0gZG9jdW1lbnQuZ2V0RWxlbWVudEJ5SWQob3V0cHV0SWQpOwogIG91dHB1dEVsZW1lbnQuaW5uZXJIVE1MID0gJyc7CgogIGNvbnN0IHBpY2tlZFByb21pc2UgPSBuZXcgUHJvbWlzZSgocmVzb2x2ZSkgPT4gewogICAgaW5wdXRFbGVtZW50LmFkZEV2ZW50TGlzdGVuZXIoJ2NoYW5nZScsIChlKSA9PiB7CiAgICAgIHJlc29sdmUoZS50YXJnZXQuZmlsZXMpOwogICAgfSk7CiAgfSk7CgogIGNvbnN0IGNhbmNlbCA9IGRvY3VtZW50LmNyZWF0ZUVsZW1lbnQoJ2J1dHRvbicpOwogIGlucHV0RWxlbWVudC5wYXJlbnRFbGVtZW50LmFwcGVuZENoaWxkKGNhbmNlbCk7CiAgY2FuY2VsLnRleHRDb250ZW50ID0gJ0NhbmNlbCB1cGxvYWQnOwogIGNvbnN0IGNhbmNlbFByb21pc2UgPSBuZXcgUHJvbWlzZSgocmVzb2x2ZSkgPT4gewogICAgY2FuY2VsLm9uY2xpY2sgPSAoKSA9PiB7CiAgICAgIHJlc29sdmUobnVsbCk7CiAgICB9OwogIH0pOwoKICAvLyBXYWl0IGZvciB0aGUgdXNlciB0byBwaWNrIHRoZSBmaWxlcy4KICBjb25zdCBmaWxlcyA9IHlpZWxkIHsKICAgIHByb21pc2U6IFByb21pc2UucmFjZShbcGlja2VkUHJvbWlzZSwgY2FuY2VsUHJvbWlzZV0pLAogICAgcmVzcG9uc2U6IHsKICAgICAgYWN0aW9uOiAnc3RhcnRpbmcnLAogICAgfQogIH07CgogIGNhbmNlbC5yZW1vdmUoKTsKCiAgLy8gRGlzYWJsZSB0aGUgaW5wdXQgZWxlbWVudCBzaW5jZSBmdXJ0aGVyIHBpY2tzIGFyZSBub3QgYWxsb3dlZC4KICBpbnB1dEVsZW1lbnQuZGlzYWJsZWQgPSB0cnVlOwoKICBpZiAoIWZpbGVzKSB7CiAgICByZXR1cm4gewogICAgICByZXNwb25zZTogewogICAgICAgIGFjdGlvbjogJ2NvbXBsZXRlJywKICAgICAgfQogICAgfTsKICB9CgogIGZvciAoY29uc3QgZmlsZSBvZiBmaWxlcykgewogICAgY29uc3QgbGkgPSBkb2N1bWVudC5jcmVhdGVFbGVtZW50KCdsaScpOwogICAgbGkuYXBwZW5kKHNwYW4oZmlsZS5uYW1lLCB7Zm9udFdlaWdodDogJ2JvbGQnfSkpOwogICAgbGkuYXBwZW5kKHNwYW4oCiAgICAgICAgYCgke2ZpbGUudHlwZSB8fCAnbi9hJ30pIC0gJHtmaWxlLnNpemV9IGJ5dGVzLCBgICsKICAgICAgICBgbGFzdCBtb2RpZmllZDogJHsKICAgICAgICAgICAgZmlsZS5sYXN0TW9kaWZpZWREYXRlID8gZmlsZS5sYXN0TW9kaWZpZWREYXRlLnRvTG9jYWxlRGF0ZVN0cmluZygpIDoKICAgICAgICAgICAgICAgICAgICAgICAgICAgICAgICAgICAgJ24vYSd9IC0gYCkpOwogICAgY29uc3QgcGVyY2VudCA9IHNwYW4oJzAlIGRvbmUnKTsKICAgIGxpLmFwcGVuZENoaWxkKHBlcmNlbnQpOwoKICAgIG91dHB1dEVsZW1lbnQuYXBwZW5kQ2hpbGQobGkpOwoKICAgIGNvbnN0IGZpbGVEYXRhUHJvbWlzZSA9IG5ldyBQcm9taXNlKChyZXNvbHZlKSA9PiB7CiAgICAgIGNvbnN0IHJlYWRlciA9IG5ldyBGaWxlUmVhZGVyKCk7CiAgICAgIHJlYWRlci5vbmxvYWQgPSAoZSkgPT4gewogICAgICAgIHJlc29sdmUoZS50YXJnZXQucmVzdWx0KTsKICAgICAgfTsKICAgICAgcmVhZGVyLnJlYWRBc0FycmF5QnVmZmVyKGZpbGUpOwogICAgfSk7CiAgICAvLyBXYWl0IGZvciB0aGUgZGF0YSB0byBiZSByZWFkeS4KICAgIGxldCBmaWxlRGF0YSA9IHlpZWxkIHsKICAgICAgcHJvbWlzZTogZmlsZURhdGFQcm9taXNlLAogICAgICByZXNwb25zZTogewogICAgICAgIGFjdGlvbjogJ2NvbnRpbnVlJywKICAgICAgfQogICAgfTsKCiAgICAvLyBVc2UgYSBjaHVua2VkIHNlbmRpbmcgdG8gYXZvaWQgbWVzc2FnZSBzaXplIGxpbWl0cy4gU2VlIGIvNjIxMTU2NjAuCiAgICBsZXQgcG9zaXRpb24gPSAwOwogICAgd2hpbGUgKHBvc2l0aW9uIDwgZmlsZURhdGEuYnl0ZUxlbmd0aCkgewogICAgICBjb25zdCBsZW5ndGggPSBNYXRoLm1pbihmaWxlRGF0YS5ieXRlTGVuZ3RoIC0gcG9zaXRpb24sIE1BWF9QQVlMT0FEX1NJWkUpOwogICAgICBjb25zdCBjaHVuayA9IG5ldyBVaW50OEFycmF5KGZpbGVEYXRhLCBwb3NpdGlvbiwgbGVuZ3RoKTsKICAgICAgcG9zaXRpb24gKz0gbGVuZ3RoOwoKICAgICAgY29uc3QgYmFzZTY0ID0gYnRvYShTdHJpbmcuZnJvbUNoYXJDb2RlLmFwcGx5KG51bGwsIGNodW5rKSk7CiAgICAgIHlpZWxkIHsKICAgICAgICByZXNwb25zZTogewogICAgICAgICAgYWN0aW9uOiAnYXBwZW5kJywKICAgICAgICAgIGZpbGU6IGZpbGUubmFtZSwKICAgICAgICAgIGRhdGE6IGJhc2U2NCwKICAgICAgICB9LAogICAgICB9OwogICAgICBwZXJjZW50LnRleHRDb250ZW50ID0KICAgICAgICAgIGAke01hdGgucm91bmQoKHBvc2l0aW9uIC8gZmlsZURhdGEuYnl0ZUxlbmd0aCkgKiAxMDApfSUgZG9uZWA7CiAgICB9CiAgfQoKICAvLyBBbGwgZG9uZS4KICB5aWVsZCB7CiAgICByZXNwb25zZTogewogICAgICBhY3Rpb246ICdjb21wbGV0ZScsCiAgICB9CiAgfTsKfQoKc2NvcGUuZ29vZ2xlID0gc2NvcGUuZ29vZ2xlIHx8IHt9OwpzY29wZS5nb29nbGUuY29sYWIgPSBzY29wZS5nb29nbGUuY29sYWIgfHwge307CnNjb3BlLmdvb2dsZS5jb2xhYi5fZmlsZXMgPSB7CiAgX3VwbG9hZEZpbGVzLAogIF91cGxvYWRGaWxlc0NvbnRpbnVlLAp9Owp9KShzZWxmKTsK",
       "headers": [
        [
         "content-type",
         "application/javascript"
        ]
       ],
       "ok": true,
       "status": 200,
       "status_text": ""
      }
     }
    },
    "id": "-ZaQ2GodvzPL",
    "outputId": "0a46bf0a-530e-4b41-abf7-ec3ae6a70cd9"
   },
   "outputs": [
    {
     "data": {
      "text/html": [
       "<div>\n",
       "<style scoped>\n",
       "    .dataframe tbody tr th:only-of-type {\n",
       "        vertical-align: middle;\n",
       "    }\n",
       "\n",
       "    .dataframe tbody tr th {\n",
       "        vertical-align: top;\n",
       "    }\n",
       "\n",
       "    .dataframe thead th {\n",
       "        text-align: right;\n",
       "    }\n",
       "</style>\n",
       "<table border=\"1\" class=\"dataframe\">\n",
       "  <thead>\n",
       "    <tr style=\"text-align: right;\">\n",
       "      <th></th>\n",
       "      <th>Unnamed: 0</th>\n",
       "      <th>label</th>\n",
       "      <th>msisdn</th>\n",
       "      <th>aon</th>\n",
       "      <th>daily_decr30</th>\n",
       "      <th>daily_decr90</th>\n",
       "      <th>rental30</th>\n",
       "      <th>rental90</th>\n",
       "      <th>last_rech_date_ma</th>\n",
       "      <th>last_rech_date_da</th>\n",
       "      <th>...</th>\n",
       "      <th>maxamnt_loans30</th>\n",
       "      <th>medianamnt_loans30</th>\n",
       "      <th>cnt_loans90</th>\n",
       "      <th>amnt_loans90</th>\n",
       "      <th>maxamnt_loans90</th>\n",
       "      <th>medianamnt_loans90</th>\n",
       "      <th>payback30</th>\n",
       "      <th>payback90</th>\n",
       "      <th>pcircle</th>\n",
       "      <th>pdate</th>\n",
       "    </tr>\n",
       "  </thead>\n",
       "  <tbody>\n",
       "    <tr>\n",
       "      <th>0</th>\n",
       "      <td>1</td>\n",
       "      <td>0</td>\n",
       "      <td>21408I70789</td>\n",
       "      <td>272.0</td>\n",
       "      <td>3055.050000</td>\n",
       "      <td>3065.150000</td>\n",
       "      <td>220.13</td>\n",
       "      <td>260.13</td>\n",
       "      <td>2.0</td>\n",
       "      <td>0.0</td>\n",
       "      <td>...</td>\n",
       "      <td>6.0</td>\n",
       "      <td>0.0</td>\n",
       "      <td>2.0</td>\n",
       "      <td>12</td>\n",
       "      <td>6</td>\n",
       "      <td>0.0</td>\n",
       "      <td>29.000000</td>\n",
       "      <td>29.000000</td>\n",
       "      <td>UPW</td>\n",
       "      <td>20-07-2016</td>\n",
       "    </tr>\n",
       "    <tr>\n",
       "      <th>1</th>\n",
       "      <td>2</td>\n",
       "      <td>1</td>\n",
       "      <td>76462I70374</td>\n",
       "      <td>712.0</td>\n",
       "      <td>12122.000000</td>\n",
       "      <td>12124.750000</td>\n",
       "      <td>3691.26</td>\n",
       "      <td>3691.26</td>\n",
       "      <td>20.0</td>\n",
       "      <td>0.0</td>\n",
       "      <td>...</td>\n",
       "      <td>12.0</td>\n",
       "      <td>0.0</td>\n",
       "      <td>1.0</td>\n",
       "      <td>12</td>\n",
       "      <td>12</td>\n",
       "      <td>0.0</td>\n",
       "      <td>0.000000</td>\n",
       "      <td>0.000000</td>\n",
       "      <td>UPW</td>\n",
       "      <td>10-08-2016</td>\n",
       "    </tr>\n",
       "    <tr>\n",
       "      <th>2</th>\n",
       "      <td>3</td>\n",
       "      <td>1</td>\n",
       "      <td>17943I70372</td>\n",
       "      <td>535.0</td>\n",
       "      <td>1398.000000</td>\n",
       "      <td>1398.000000</td>\n",
       "      <td>900.13</td>\n",
       "      <td>900.13</td>\n",
       "      <td>3.0</td>\n",
       "      <td>0.0</td>\n",
       "      <td>...</td>\n",
       "      <td>6.0</td>\n",
       "      <td>0.0</td>\n",
       "      <td>1.0</td>\n",
       "      <td>6</td>\n",
       "      <td>6</td>\n",
       "      <td>0.0</td>\n",
       "      <td>0.000000</td>\n",
       "      <td>0.000000</td>\n",
       "      <td>UPW</td>\n",
       "      <td>19-08-2016</td>\n",
       "    </tr>\n",
       "    <tr>\n",
       "      <th>3</th>\n",
       "      <td>4</td>\n",
       "      <td>1</td>\n",
       "      <td>55773I70781</td>\n",
       "      <td>241.0</td>\n",
       "      <td>21.228000</td>\n",
       "      <td>21.228000</td>\n",
       "      <td>159.42</td>\n",
       "      <td>159.42</td>\n",
       "      <td>41.0</td>\n",
       "      <td>0.0</td>\n",
       "      <td>...</td>\n",
       "      <td>6.0</td>\n",
       "      <td>0.0</td>\n",
       "      <td>2.0</td>\n",
       "      <td>12</td>\n",
       "      <td>6</td>\n",
       "      <td>0.0</td>\n",
       "      <td>0.000000</td>\n",
       "      <td>0.000000</td>\n",
       "      <td>UPW</td>\n",
       "      <td>06-06-2016</td>\n",
       "    </tr>\n",
       "    <tr>\n",
       "      <th>4</th>\n",
       "      <td>5</td>\n",
       "      <td>1</td>\n",
       "      <td>03813I82730</td>\n",
       "      <td>947.0</td>\n",
       "      <td>150.619333</td>\n",
       "      <td>150.619333</td>\n",
       "      <td>1098.90</td>\n",
       "      <td>1098.90</td>\n",
       "      <td>4.0</td>\n",
       "      <td>0.0</td>\n",
       "      <td>...</td>\n",
       "      <td>6.0</td>\n",
       "      <td>0.0</td>\n",
       "      <td>7.0</td>\n",
       "      <td>42</td>\n",
       "      <td>6</td>\n",
       "      <td>0.0</td>\n",
       "      <td>2.333333</td>\n",
       "      <td>2.333333</td>\n",
       "      <td>UPW</td>\n",
       "      <td>22-06-2016</td>\n",
       "    </tr>\n",
       "    <tr>\n",
       "      <th>...</th>\n",
       "      <td>...</td>\n",
       "      <td>...</td>\n",
       "      <td>...</td>\n",
       "      <td>...</td>\n",
       "      <td>...</td>\n",
       "      <td>...</td>\n",
       "      <td>...</td>\n",
       "      <td>...</td>\n",
       "      <td>...</td>\n",
       "      <td>...</td>\n",
       "      <td>...</td>\n",
       "      <td>...</td>\n",
       "      <td>...</td>\n",
       "      <td>...</td>\n",
       "      <td>...</td>\n",
       "      <td>...</td>\n",
       "      <td>...</td>\n",
       "      <td>...</td>\n",
       "      <td>...</td>\n",
       "      <td>...</td>\n",
       "      <td>...</td>\n",
       "    </tr>\n",
       "    <tr>\n",
       "      <th>209588</th>\n",
       "      <td>209589</td>\n",
       "      <td>1</td>\n",
       "      <td>22758I85348</td>\n",
       "      <td>404.0</td>\n",
       "      <td>151.872333</td>\n",
       "      <td>151.872333</td>\n",
       "      <td>1089.19</td>\n",
       "      <td>1089.19</td>\n",
       "      <td>1.0</td>\n",
       "      <td>0.0</td>\n",
       "      <td>...</td>\n",
       "      <td>6.0</td>\n",
       "      <td>0.0</td>\n",
       "      <td>2.0</td>\n",
       "      <td>12</td>\n",
       "      <td>6</td>\n",
       "      <td>0.0</td>\n",
       "      <td>1.000000</td>\n",
       "      <td>1.000000</td>\n",
       "      <td>UPW</td>\n",
       "      <td>17-06-2016</td>\n",
       "    </tr>\n",
       "    <tr>\n",
       "      <th>209589</th>\n",
       "      <td>209590</td>\n",
       "      <td>1</td>\n",
       "      <td>95583I84455</td>\n",
       "      <td>1075.0</td>\n",
       "      <td>36.936000</td>\n",
       "      <td>36.936000</td>\n",
       "      <td>1728.36</td>\n",
       "      <td>1728.36</td>\n",
       "      <td>4.0</td>\n",
       "      <td>0.0</td>\n",
       "      <td>...</td>\n",
       "      <td>6.0</td>\n",
       "      <td>0.0</td>\n",
       "      <td>3.0</td>\n",
       "      <td>18</td>\n",
       "      <td>6</td>\n",
       "      <td>0.0</td>\n",
       "      <td>1.000000</td>\n",
       "      <td>1.000000</td>\n",
       "      <td>UPW</td>\n",
       "      <td>12-06-2016</td>\n",
       "    </tr>\n",
       "    <tr>\n",
       "      <th>209590</th>\n",
       "      <td>209591</td>\n",
       "      <td>1</td>\n",
       "      <td>28556I85350</td>\n",
       "      <td>1013.0</td>\n",
       "      <td>11843.111670</td>\n",
       "      <td>11904.350000</td>\n",
       "      <td>5861.83</td>\n",
       "      <td>8893.20</td>\n",
       "      <td>3.0</td>\n",
       "      <td>0.0</td>\n",
       "      <td>...</td>\n",
       "      <td>12.0</td>\n",
       "      <td>0.0</td>\n",
       "      <td>6.0</td>\n",
       "      <td>54</td>\n",
       "      <td>12</td>\n",
       "      <td>0.0</td>\n",
       "      <td>4.000000</td>\n",
       "      <td>3.833333</td>\n",
       "      <td>UPW</td>\n",
       "      <td>29-07-2016</td>\n",
       "    </tr>\n",
       "    <tr>\n",
       "      <th>209591</th>\n",
       "      <td>209592</td>\n",
       "      <td>1</td>\n",
       "      <td>59712I82733</td>\n",
       "      <td>1732.0</td>\n",
       "      <td>12488.228330</td>\n",
       "      <td>12574.370000</td>\n",
       "      <td>411.83</td>\n",
       "      <td>984.58</td>\n",
       "      <td>2.0</td>\n",
       "      <td>38.0</td>\n",
       "      <td>...</td>\n",
       "      <td>12.0</td>\n",
       "      <td>0.0</td>\n",
       "      <td>3.0</td>\n",
       "      <td>24</td>\n",
       "      <td>12</td>\n",
       "      <td>0.0</td>\n",
       "      <td>0.000000</td>\n",
       "      <td>10.500000</td>\n",
       "      <td>UPW</td>\n",
       "      <td>25-07-2016</td>\n",
       "    </tr>\n",
       "    <tr>\n",
       "      <th>209592</th>\n",
       "      <td>209593</td>\n",
       "      <td>1</td>\n",
       "      <td>65061I85339</td>\n",
       "      <td>1581.0</td>\n",
       "      <td>4489.362000</td>\n",
       "      <td>4534.820000</td>\n",
       "      <td>483.92</td>\n",
       "      <td>631.20</td>\n",
       "      <td>13.0</td>\n",
       "      <td>0.0</td>\n",
       "      <td>...</td>\n",
       "      <td>12.0</td>\n",
       "      <td>0.0</td>\n",
       "      <td>2.0</td>\n",
       "      <td>18</td>\n",
       "      <td>12</td>\n",
       "      <td>0.0</td>\n",
       "      <td>0.000000</td>\n",
       "      <td>0.000000</td>\n",
       "      <td>UPW</td>\n",
       "      <td>07-07-2016</td>\n",
       "    </tr>\n",
       "  </tbody>\n",
       "</table>\n",
       "<p>209593 rows × 37 columns</p>\n",
       "</div>"
      ],
      "text/plain": [
       "        Unnamed: 0  label       msisdn     aon  daily_decr30  daily_decr90  \\\n",
       "0                1      0  21408I70789   272.0   3055.050000   3065.150000   \n",
       "1                2      1  76462I70374   712.0  12122.000000  12124.750000   \n",
       "2                3      1  17943I70372   535.0   1398.000000   1398.000000   \n",
       "3                4      1  55773I70781   241.0     21.228000     21.228000   \n",
       "4                5      1  03813I82730   947.0    150.619333    150.619333   \n",
       "...            ...    ...          ...     ...           ...           ...   \n",
       "209588      209589      1  22758I85348   404.0    151.872333    151.872333   \n",
       "209589      209590      1  95583I84455  1075.0     36.936000     36.936000   \n",
       "209590      209591      1  28556I85350  1013.0  11843.111670  11904.350000   \n",
       "209591      209592      1  59712I82733  1732.0  12488.228330  12574.370000   \n",
       "209592      209593      1  65061I85339  1581.0   4489.362000   4534.820000   \n",
       "\n",
       "        rental30  rental90  last_rech_date_ma  last_rech_date_da  ...  \\\n",
       "0         220.13    260.13                2.0                0.0  ...   \n",
       "1        3691.26   3691.26               20.0                0.0  ...   \n",
       "2         900.13    900.13                3.0                0.0  ...   \n",
       "3         159.42    159.42               41.0                0.0  ...   \n",
       "4        1098.90   1098.90                4.0                0.0  ...   \n",
       "...          ...       ...                ...                ...  ...   \n",
       "209588   1089.19   1089.19                1.0                0.0  ...   \n",
       "209589   1728.36   1728.36                4.0                0.0  ...   \n",
       "209590   5861.83   8893.20                3.0                0.0  ...   \n",
       "209591    411.83    984.58                2.0               38.0  ...   \n",
       "209592    483.92    631.20               13.0                0.0  ...   \n",
       "\n",
       "        maxamnt_loans30  medianamnt_loans30  cnt_loans90  amnt_loans90  \\\n",
       "0                   6.0                 0.0          2.0            12   \n",
       "1                  12.0                 0.0          1.0            12   \n",
       "2                   6.0                 0.0          1.0             6   \n",
       "3                   6.0                 0.0          2.0            12   \n",
       "4                   6.0                 0.0          7.0            42   \n",
       "...                 ...                 ...          ...           ...   \n",
       "209588              6.0                 0.0          2.0            12   \n",
       "209589              6.0                 0.0          3.0            18   \n",
       "209590             12.0                 0.0          6.0            54   \n",
       "209591             12.0                 0.0          3.0            24   \n",
       "209592             12.0                 0.0          2.0            18   \n",
       "\n",
       "        maxamnt_loans90  medianamnt_loans90  payback30  payback90  pcircle  \\\n",
       "0                     6                 0.0  29.000000  29.000000      UPW   \n",
       "1                    12                 0.0   0.000000   0.000000      UPW   \n",
       "2                     6                 0.0   0.000000   0.000000      UPW   \n",
       "3                     6                 0.0   0.000000   0.000000      UPW   \n",
       "4                     6                 0.0   2.333333   2.333333      UPW   \n",
       "...                 ...                 ...        ...        ...      ...   \n",
       "209588                6                 0.0   1.000000   1.000000      UPW   \n",
       "209589                6                 0.0   1.000000   1.000000      UPW   \n",
       "209590               12                 0.0   4.000000   3.833333      UPW   \n",
       "209591               12                 0.0   0.000000  10.500000      UPW   \n",
       "209592               12                 0.0   0.000000   0.000000      UPW   \n",
       "\n",
       "             pdate  \n",
       "0       20-07-2016  \n",
       "1       10-08-2016  \n",
       "2       19-08-2016  \n",
       "3       06-06-2016  \n",
       "4       22-06-2016  \n",
       "...            ...  \n",
       "209588  17-06-2016  \n",
       "209589  12-06-2016  \n",
       "209590  29-07-2016  \n",
       "209591  25-07-2016  \n",
       "209592  07-07-2016  \n",
       "\n",
       "[209593 rows x 37 columns]"
      ]
     },
     "execution_count": 3,
     "metadata": {},
     "output_type": "execute_result"
    }
   ],
   "source": [
    "import pandas as pd\n",
    "df=pd.read_csv(r'C:\\Users\\shaik mahaboob basha\\Downloads\\Micro-Credit-Project\\Micro Credit Project\\Data file.csv')\n",
    "df"
   ]
  },
  {
   "cell_type": "code",
   "execution_count": 2,
   "metadata": {
    "colab": {
     "base_uri": "https://localhost:8080/",
     "height": 218
    },
    "id": "rmuVUMUxvzfE",
    "outputId": "f838c90d-e3d6-477f-ba73-1590cfc9ad82"
   },
   "outputs": [
    {
     "ename": "NameError",
     "evalue": "ignored",
     "output_type": "error",
     "traceback": [
      "\u001b[0;31m---------------------------------------------------------------------------\u001b[0m",
      "\u001b[0;31mNameError\u001b[0m                                 Traceback (most recent call last)",
      "\u001b[0;32m<ipython-input-2-21913d056c89>\u001b[0m in \u001b[0;36m<module>\u001b[0;34m()\u001b[0m\n\u001b[1;32m      2\u001b[0m \u001b[0;32mimport\u001b[0m \u001b[0mio\u001b[0m\u001b[0;34m\u001b[0m\u001b[0;34m\u001b[0m\u001b[0m\n\u001b[1;32m      3\u001b[0m \u001b[0;34m\u001b[0m\u001b[0m\n\u001b[0;32m----> 4\u001b[0;31m \u001b[0mdf\u001b[0m \u001b[0;34m=\u001b[0m \u001b[0mpd\u001b[0m\u001b[0;34m.\u001b[0m\u001b[0mread_csv\u001b[0m\u001b[0;34m(\u001b[0m\u001b[0mio\u001b[0m\u001b[0;34m.\u001b[0m\u001b[0mBytesIO\u001b[0m\u001b[0;34m(\u001b[0m\u001b[0muploaded\u001b[0m\u001b[0;34m[\u001b[0m\u001b[0;34m'Data file.csv'\u001b[0m\u001b[0;34m]\u001b[0m\u001b[0;34m)\u001b[0m\u001b[0;34m)\u001b[0m\u001b[0;34m\u001b[0m\u001b[0;34m\u001b[0m\u001b[0m\n\u001b[0m\u001b[1;32m      5\u001b[0m \u001b[0mprint\u001b[0m\u001b[0;34m(\u001b[0m\u001b[0mdf\u001b[0m\u001b[0;34m)\u001b[0m\u001b[0;34m\u001b[0m\u001b[0;34m\u001b[0m\u001b[0m\n",
      "\u001b[0;31mNameError\u001b[0m: name 'uploaded' is not defined"
     ]
    }
   ],
   "source": [
    "import pandas as pd \n",
    "import io \n",
    "  \n",
    "df = pd.read_csv(io.BytesIO(uploaded['Data file.csv'])) \n",
    "print(df)"
   ]
  },
  {
   "cell_type": "code",
   "execution_count": null,
   "metadata": {
    "id": "1oLTshD3_Yz2"
   },
   "outputs": [],
   "source": [
    "data = df"
   ]
  },
  {
   "cell_type": "code",
   "execution_count": 5,
   "metadata": {
    "colab": {
     "base_uri": "https://localhost:8080/"
    },
    "id": "NLZbRjG5_dEp",
    "outputId": "dd794eab-e34f-49a9-bbf1-76d2283fe946"
   },
   "outputs": [
    {
     "data": {
      "text/plain": [
       "(209593, 37)"
      ]
     },
     "execution_count": 5,
     "metadata": {},
     "output_type": "execute_result"
    }
   ],
   "source": [
    "df.shape"
   ]
  },
  {
   "cell_type": "code",
   "execution_count": 6,
   "metadata": {
    "colab": {
     "base_uri": "https://localhost:8080/"
    },
    "id": "gcr_fVka_j1R",
    "outputId": "54c1968b-4995-4f5c-edd3-10c8bcb57c48"
   },
   "outputs": [
    {
     "name": "stdout",
     "output_type": "stream",
     "text": [
      "<class 'pandas.core.frame.DataFrame'>\n",
      "RangeIndex: 209593 entries, 0 to 209592\n",
      "Data columns (total 37 columns):\n",
      " #   Column                Non-Null Count   Dtype  \n",
      "---  ------                --------------   -----  \n",
      " 0   Unnamed: 0            209593 non-null  int64  \n",
      " 1   label                 209593 non-null  int64  \n",
      " 2   msisdn                209593 non-null  object \n",
      " 3   aon                   209593 non-null  float64\n",
      " 4   daily_decr30          209593 non-null  float64\n",
      " 5   daily_decr90          209593 non-null  float64\n",
      " 6   rental30              209593 non-null  float64\n",
      " 7   rental90              209593 non-null  float64\n",
      " 8   last_rech_date_ma     209593 non-null  float64\n",
      " 9   last_rech_date_da     209593 non-null  float64\n",
      " 10  last_rech_amt_ma      209593 non-null  int64  \n",
      " 11  cnt_ma_rech30         209593 non-null  int64  \n",
      " 12  fr_ma_rech30          209593 non-null  float64\n",
      " 13  sumamnt_ma_rech30     209593 non-null  float64\n",
      " 14  medianamnt_ma_rech30  209593 non-null  float64\n",
      " 15  medianmarechprebal30  209593 non-null  float64\n",
      " 16  cnt_ma_rech90         209593 non-null  int64  \n",
      " 17  fr_ma_rech90          209593 non-null  int64  \n",
      " 18  sumamnt_ma_rech90     209593 non-null  int64  \n",
      " 19  medianamnt_ma_rech90  209593 non-null  float64\n",
      " 20  medianmarechprebal90  209593 non-null  float64\n",
      " 21  cnt_da_rech30         209593 non-null  float64\n",
      " 22  fr_da_rech30          209593 non-null  float64\n",
      " 23  cnt_da_rech90         209593 non-null  int64  \n",
      " 24  fr_da_rech90          209593 non-null  int64  \n",
      " 25  cnt_loans30           209593 non-null  int64  \n",
      " 26  amnt_loans30          209593 non-null  int64  \n",
      " 27  maxamnt_loans30       209593 non-null  float64\n",
      " 28  medianamnt_loans30    209593 non-null  float64\n",
      " 29  cnt_loans90           209593 non-null  float64\n",
      " 30  amnt_loans90          209593 non-null  int64  \n",
      " 31  maxamnt_loans90       209593 non-null  int64  \n",
      " 32  medianamnt_loans90    209593 non-null  float64\n",
      " 33  payback30             209593 non-null  float64\n",
      " 34  payback90             209593 non-null  float64\n",
      " 35  pcircle               209593 non-null  object \n",
      " 36  pdate                 209593 non-null  object \n",
      "dtypes: float64(21), int64(13), object(3)\n",
      "memory usage: 56.8+ MB\n"
     ]
    }
   ],
   "source": [
    "df.info()\n"
   ]
  },
  {
   "cell_type": "code",
   "execution_count": null,
   "metadata": {
    "colab": {
     "base_uri": "https://localhost:8080/"
    },
    "id": "Il_GSxrf_j44",
    "outputId": "a5aa05d0-fef9-4760-be67-06b945eb3517"
   },
   "outputs": [
    {
     "data": {
      "text/plain": [
       "Unnamed: 0                int64\n",
       "label                     int64\n",
       "msisdn                   object\n",
       "aon                     float64\n",
       "daily_decr30            float64\n",
       "daily_decr90            float64\n",
       "rental30                float64\n",
       "rental90                float64\n",
       "last_rech_date_ma       float64\n",
       "last_rech_date_da       float64\n",
       "last_rech_amt_ma          int64\n",
       "cnt_ma_rech30             int64\n",
       "fr_ma_rech30            float64\n",
       "sumamnt_ma_rech30       float64\n",
       "medianamnt_ma_rech30    float64\n",
       "medianmarechprebal30    float64\n",
       "cnt_ma_rech90             int64\n",
       "fr_ma_rech90              int64\n",
       "sumamnt_ma_rech90         int64\n",
       "medianamnt_ma_rech90    float64\n",
       "medianmarechprebal90    float64\n",
       "cnt_da_rech30           float64\n",
       "fr_da_rech30            float64\n",
       "cnt_da_rech90             int64\n",
       "fr_da_rech90              int64\n",
       "cnt_loans30               int64\n",
       "amnt_loans30              int64\n",
       "maxamnt_loans30         float64\n",
       "medianamnt_loans30      float64\n",
       "cnt_loans90             float64\n",
       "amnt_loans90              int64\n",
       "maxamnt_loans90           int64\n",
       "medianamnt_loans90      float64\n",
       "payback30               float64\n",
       "payback90               float64\n",
       "pcircle                  object\n",
       "pdate                    object\n",
       "dtype: object"
      ]
     },
     "execution_count": 195,
     "metadata": {
      "tags": []
     },
     "output_type": "execute_result"
    }
   ],
   "source": [
    "df.dtypes"
   ]
  },
  {
   "cell_type": "code",
   "execution_count": 7,
   "metadata": {
    "colab": {
     "base_uri": "https://localhost:8080/"
    },
    "id": "CYMRUnscFMwL",
    "outputId": "6c52c115-95c4-4f05-9458-ca56333597cb"
   },
   "outputs": [
    {
     "data": {
      "text/plain": [
       "Index(['msisdn', 'pcircle', 'pdate'], dtype='object')"
      ]
     },
     "execution_count": 7,
     "metadata": {},
     "output_type": "execute_result"
    }
   ],
   "source": [
    "#Columns with int64 DataType\n",
    "df_float = df.select_dtypes(include=['object']).columns\n",
    "df_float"
   ]
  },
  {
   "cell_type": "code",
   "execution_count": 8,
   "metadata": {
    "id": "L6b8zko4G-N5"
   },
   "outputs": [],
   "source": [
    "df_new1 = df.iloc[:,3:-2]"
   ]
  },
  {
   "cell_type": "code",
   "execution_count": 9,
   "metadata": {
    "colab": {
     "base_uri": "https://localhost:8080/",
     "height": 415
    },
    "id": "DCSO4iCNJHHm",
    "outputId": "e9bdcc19-126c-4e9c-c3cf-2cbba1076cd8"
   },
   "outputs": [
    {
     "data": {
      "text/html": [
       "<div>\n",
       "<style scoped>\n",
       "    .dataframe tbody tr th:only-of-type {\n",
       "        vertical-align: middle;\n",
       "    }\n",
       "\n",
       "    .dataframe tbody tr th {\n",
       "        vertical-align: top;\n",
       "    }\n",
       "\n",
       "    .dataframe thead th {\n",
       "        text-align: right;\n",
       "    }\n",
       "</style>\n",
       "<table border=\"1\" class=\"dataframe\">\n",
       "  <thead>\n",
       "    <tr style=\"text-align: right;\">\n",
       "      <th></th>\n",
       "      <th>Unnamed: 0</th>\n",
       "      <th>label</th>\n",
       "    </tr>\n",
       "  </thead>\n",
       "  <tbody>\n",
       "    <tr>\n",
       "      <th>0</th>\n",
       "      <td>1</td>\n",
       "      <td>0</td>\n",
       "    </tr>\n",
       "    <tr>\n",
       "      <th>1</th>\n",
       "      <td>2</td>\n",
       "      <td>1</td>\n",
       "    </tr>\n",
       "    <tr>\n",
       "      <th>2</th>\n",
       "      <td>3</td>\n",
       "      <td>1</td>\n",
       "    </tr>\n",
       "    <tr>\n",
       "      <th>3</th>\n",
       "      <td>4</td>\n",
       "      <td>1</td>\n",
       "    </tr>\n",
       "    <tr>\n",
       "      <th>4</th>\n",
       "      <td>5</td>\n",
       "      <td>1</td>\n",
       "    </tr>\n",
       "    <tr>\n",
       "      <th>...</th>\n",
       "      <td>...</td>\n",
       "      <td>...</td>\n",
       "    </tr>\n",
       "    <tr>\n",
       "      <th>209588</th>\n",
       "      <td>209589</td>\n",
       "      <td>1</td>\n",
       "    </tr>\n",
       "    <tr>\n",
       "      <th>209589</th>\n",
       "      <td>209590</td>\n",
       "      <td>1</td>\n",
       "    </tr>\n",
       "    <tr>\n",
       "      <th>209590</th>\n",
       "      <td>209591</td>\n",
       "      <td>1</td>\n",
       "    </tr>\n",
       "    <tr>\n",
       "      <th>209591</th>\n",
       "      <td>209592</td>\n",
       "      <td>1</td>\n",
       "    </tr>\n",
       "    <tr>\n",
       "      <th>209592</th>\n",
       "      <td>209593</td>\n",
       "      <td>1</td>\n",
       "    </tr>\n",
       "  </tbody>\n",
       "</table>\n",
       "<p>209593 rows × 2 columns</p>\n",
       "</div>"
      ],
      "text/plain": [
       "        Unnamed: 0  label\n",
       "0                1      0\n",
       "1                2      1\n",
       "2                3      1\n",
       "3                4      1\n",
       "4                5      1\n",
       "...            ...    ...\n",
       "209588      209589      1\n",
       "209589      209590      1\n",
       "209590      209591      1\n",
       "209591      209592      1\n",
       "209592      209593      1\n",
       "\n",
       "[209593 rows x 2 columns]"
      ]
     },
     "execution_count": 9,
     "metadata": {},
     "output_type": "execute_result"
    }
   ],
   "source": [
    "df_new2 = df.iloc[:,0:2]\n",
    "df_new2"
   ]
  },
  {
   "cell_type": "code",
   "execution_count": 10,
   "metadata": {
    "id": "BXGZ8q72HPeU"
   },
   "outputs": [],
   "source": [
    "df_new= pd.concat([df_new1,df_new2], axis=1)"
   ]
  },
  {
   "cell_type": "code",
   "execution_count": 11,
   "metadata": {
    "colab": {
     "base_uri": "https://localhost:8080/",
     "height": 314
    },
    "id": "XBmyu8r6_kJx",
    "outputId": "e5b34b41-b798-4ecb-a454-40773bc9e742"
   },
   "outputs": [
    {
     "data": {
      "text/html": [
       "<div>\n",
       "<style scoped>\n",
       "    .dataframe tbody tr th:only-of-type {\n",
       "        vertical-align: middle;\n",
       "    }\n",
       "\n",
       "    .dataframe tbody tr th {\n",
       "        vertical-align: top;\n",
       "    }\n",
       "\n",
       "    .dataframe thead th {\n",
       "        text-align: right;\n",
       "    }\n",
       "</style>\n",
       "<table border=\"1\" class=\"dataframe\">\n",
       "  <thead>\n",
       "    <tr style=\"text-align: right;\">\n",
       "      <th></th>\n",
       "      <th>aon</th>\n",
       "      <th>daily_decr30</th>\n",
       "      <th>daily_decr90</th>\n",
       "      <th>rental30</th>\n",
       "      <th>rental90</th>\n",
       "      <th>last_rech_date_ma</th>\n",
       "      <th>last_rech_date_da</th>\n",
       "      <th>last_rech_amt_ma</th>\n",
       "      <th>cnt_ma_rech30</th>\n",
       "      <th>fr_ma_rech30</th>\n",
       "      <th>...</th>\n",
       "      <th>maxamnt_loans30</th>\n",
       "      <th>medianamnt_loans30</th>\n",
       "      <th>cnt_loans90</th>\n",
       "      <th>amnt_loans90</th>\n",
       "      <th>maxamnt_loans90</th>\n",
       "      <th>medianamnt_loans90</th>\n",
       "      <th>payback30</th>\n",
       "      <th>payback90</th>\n",
       "      <th>Unnamed: 0</th>\n",
       "      <th>label</th>\n",
       "    </tr>\n",
       "  </thead>\n",
       "  <tbody>\n",
       "    <tr>\n",
       "      <th>count</th>\n",
       "      <td>209593.000000</td>\n",
       "      <td>209593.000000</td>\n",
       "      <td>209593.000000</td>\n",
       "      <td>209593.000000</td>\n",
       "      <td>209593.000000</td>\n",
       "      <td>209593.00000</td>\n",
       "      <td>209593.000000</td>\n",
       "      <td>209593.000000</td>\n",
       "      <td>209593.000000</td>\n",
       "      <td>209593.000000</td>\n",
       "      <td>...</td>\n",
       "      <td>209593.000000</td>\n",
       "      <td>209593.000000</td>\n",
       "      <td>209593.000000</td>\n",
       "      <td>209593.000000</td>\n",
       "      <td>209593.000000</td>\n",
       "      <td>209593.000000</td>\n",
       "      <td>209593.000000</td>\n",
       "      <td>209593.000000</td>\n",
       "      <td>209593.000000</td>\n",
       "      <td>209593.000000</td>\n",
       "    </tr>\n",
       "    <tr>\n",
       "      <th>mean</th>\n",
       "      <td>8112.343445</td>\n",
       "      <td>5381.402289</td>\n",
       "      <td>6082.515068</td>\n",
       "      <td>2692.581910</td>\n",
       "      <td>3483.406534</td>\n",
       "      <td>3755.84780</td>\n",
       "      <td>3712.202921</td>\n",
       "      <td>2064.452797</td>\n",
       "      <td>3.978057</td>\n",
       "      <td>3737.355121</td>\n",
       "      <td>...</td>\n",
       "      <td>274.658747</td>\n",
       "      <td>0.054029</td>\n",
       "      <td>18.520919</td>\n",
       "      <td>23.645398</td>\n",
       "      <td>6.703134</td>\n",
       "      <td>0.046077</td>\n",
       "      <td>3.398826</td>\n",
       "      <td>4.321485</td>\n",
       "      <td>104797.000000</td>\n",
       "      <td>0.875177</td>\n",
       "    </tr>\n",
       "    <tr>\n",
       "      <th>std</th>\n",
       "      <td>75696.082531</td>\n",
       "      <td>9220.623400</td>\n",
       "      <td>10918.812767</td>\n",
       "      <td>4308.586781</td>\n",
       "      <td>5770.461279</td>\n",
       "      <td>53905.89223</td>\n",
       "      <td>53374.833430</td>\n",
       "      <td>2370.786034</td>\n",
       "      <td>4.256090</td>\n",
       "      <td>53643.625172</td>\n",
       "      <td>...</td>\n",
       "      <td>4245.264648</td>\n",
       "      <td>0.218039</td>\n",
       "      <td>224.797423</td>\n",
       "      <td>26.469861</td>\n",
       "      <td>2.103864</td>\n",
       "      <td>0.200692</td>\n",
       "      <td>8.813729</td>\n",
       "      <td>10.308108</td>\n",
       "      <td>60504.431823</td>\n",
       "      <td>0.330519</td>\n",
       "    </tr>\n",
       "    <tr>\n",
       "      <th>min</th>\n",
       "      <td>-48.000000</td>\n",
       "      <td>-93.012667</td>\n",
       "      <td>-93.012667</td>\n",
       "      <td>-23737.140000</td>\n",
       "      <td>-24720.580000</td>\n",
       "      <td>-29.00000</td>\n",
       "      <td>-29.000000</td>\n",
       "      <td>0.000000</td>\n",
       "      <td>0.000000</td>\n",
       "      <td>0.000000</td>\n",
       "      <td>...</td>\n",
       "      <td>0.000000</td>\n",
       "      <td>0.000000</td>\n",
       "      <td>0.000000</td>\n",
       "      <td>0.000000</td>\n",
       "      <td>0.000000</td>\n",
       "      <td>0.000000</td>\n",
       "      <td>0.000000</td>\n",
       "      <td>0.000000</td>\n",
       "      <td>1.000000</td>\n",
       "      <td>0.000000</td>\n",
       "    </tr>\n",
       "    <tr>\n",
       "      <th>25%</th>\n",
       "      <td>246.000000</td>\n",
       "      <td>42.440000</td>\n",
       "      <td>42.692000</td>\n",
       "      <td>280.420000</td>\n",
       "      <td>300.260000</td>\n",
       "      <td>1.00000</td>\n",
       "      <td>0.000000</td>\n",
       "      <td>770.000000</td>\n",
       "      <td>1.000000</td>\n",
       "      <td>0.000000</td>\n",
       "      <td>...</td>\n",
       "      <td>6.000000</td>\n",
       "      <td>0.000000</td>\n",
       "      <td>1.000000</td>\n",
       "      <td>6.000000</td>\n",
       "      <td>6.000000</td>\n",
       "      <td>0.000000</td>\n",
       "      <td>0.000000</td>\n",
       "      <td>0.000000</td>\n",
       "      <td>52399.000000</td>\n",
       "      <td>1.000000</td>\n",
       "    </tr>\n",
       "    <tr>\n",
       "      <th>50%</th>\n",
       "      <td>527.000000</td>\n",
       "      <td>1469.175667</td>\n",
       "      <td>1500.000000</td>\n",
       "      <td>1083.570000</td>\n",
       "      <td>1334.000000</td>\n",
       "      <td>3.00000</td>\n",
       "      <td>0.000000</td>\n",
       "      <td>1539.000000</td>\n",
       "      <td>3.000000</td>\n",
       "      <td>2.000000</td>\n",
       "      <td>...</td>\n",
       "      <td>6.000000</td>\n",
       "      <td>0.000000</td>\n",
       "      <td>2.000000</td>\n",
       "      <td>12.000000</td>\n",
       "      <td>6.000000</td>\n",
       "      <td>0.000000</td>\n",
       "      <td>0.000000</td>\n",
       "      <td>1.666667</td>\n",
       "      <td>104797.000000</td>\n",
       "      <td>1.000000</td>\n",
       "    </tr>\n",
       "    <tr>\n",
       "      <th>75%</th>\n",
       "      <td>982.000000</td>\n",
       "      <td>7244.000000</td>\n",
       "      <td>7802.790000</td>\n",
       "      <td>3356.940000</td>\n",
       "      <td>4201.790000</td>\n",
       "      <td>7.00000</td>\n",
       "      <td>0.000000</td>\n",
       "      <td>2309.000000</td>\n",
       "      <td>5.000000</td>\n",
       "      <td>6.000000</td>\n",
       "      <td>...</td>\n",
       "      <td>6.000000</td>\n",
       "      <td>0.000000</td>\n",
       "      <td>5.000000</td>\n",
       "      <td>30.000000</td>\n",
       "      <td>6.000000</td>\n",
       "      <td>0.000000</td>\n",
       "      <td>3.750000</td>\n",
       "      <td>4.500000</td>\n",
       "      <td>157195.000000</td>\n",
       "      <td>1.000000</td>\n",
       "    </tr>\n",
       "    <tr>\n",
       "      <th>max</th>\n",
       "      <td>999860.755200</td>\n",
       "      <td>265926.000000</td>\n",
       "      <td>320630.000000</td>\n",
       "      <td>198926.110000</td>\n",
       "      <td>200148.110000</td>\n",
       "      <td>998650.37770</td>\n",
       "      <td>999171.809400</td>\n",
       "      <td>55000.000000</td>\n",
       "      <td>203.000000</td>\n",
       "      <td>999606.368100</td>\n",
       "      <td>...</td>\n",
       "      <td>99864.560860</td>\n",
       "      <td>3.000000</td>\n",
       "      <td>4997.517944</td>\n",
       "      <td>438.000000</td>\n",
       "      <td>12.000000</td>\n",
       "      <td>3.000000</td>\n",
       "      <td>171.500000</td>\n",
       "      <td>171.500000</td>\n",
       "      <td>209593.000000</td>\n",
       "      <td>1.000000</td>\n",
       "    </tr>\n",
       "  </tbody>\n",
       "</table>\n",
       "<p>8 rows × 34 columns</p>\n",
       "</div>"
      ],
      "text/plain": [
       "                 aon   daily_decr30   daily_decr90       rental30  \\\n",
       "count  209593.000000  209593.000000  209593.000000  209593.000000   \n",
       "mean     8112.343445    5381.402289    6082.515068    2692.581910   \n",
       "std     75696.082531    9220.623400   10918.812767    4308.586781   \n",
       "min       -48.000000     -93.012667     -93.012667  -23737.140000   \n",
       "25%       246.000000      42.440000      42.692000     280.420000   \n",
       "50%       527.000000    1469.175667    1500.000000    1083.570000   \n",
       "75%       982.000000    7244.000000    7802.790000    3356.940000   \n",
       "max    999860.755200  265926.000000  320630.000000  198926.110000   \n",
       "\n",
       "            rental90  last_rech_date_ma  last_rech_date_da  last_rech_amt_ma  \\\n",
       "count  209593.000000       209593.00000      209593.000000     209593.000000   \n",
       "mean     3483.406534         3755.84780        3712.202921       2064.452797   \n",
       "std      5770.461279        53905.89223       53374.833430       2370.786034   \n",
       "min    -24720.580000          -29.00000         -29.000000          0.000000   \n",
       "25%       300.260000            1.00000           0.000000        770.000000   \n",
       "50%      1334.000000            3.00000           0.000000       1539.000000   \n",
       "75%      4201.790000            7.00000           0.000000       2309.000000   \n",
       "max    200148.110000       998650.37770      999171.809400      55000.000000   \n",
       "\n",
       "       cnt_ma_rech30   fr_ma_rech30  ...  maxamnt_loans30  medianamnt_loans30  \\\n",
       "count  209593.000000  209593.000000  ...    209593.000000       209593.000000   \n",
       "mean        3.978057    3737.355121  ...       274.658747            0.054029   \n",
       "std         4.256090   53643.625172  ...      4245.264648            0.218039   \n",
       "min         0.000000       0.000000  ...         0.000000            0.000000   \n",
       "25%         1.000000       0.000000  ...         6.000000            0.000000   \n",
       "50%         3.000000       2.000000  ...         6.000000            0.000000   \n",
       "75%         5.000000       6.000000  ...         6.000000            0.000000   \n",
       "max       203.000000  999606.368100  ...     99864.560860            3.000000   \n",
       "\n",
       "         cnt_loans90   amnt_loans90  maxamnt_loans90  medianamnt_loans90  \\\n",
       "count  209593.000000  209593.000000    209593.000000       209593.000000   \n",
       "mean       18.520919      23.645398         6.703134            0.046077   \n",
       "std       224.797423      26.469861         2.103864            0.200692   \n",
       "min         0.000000       0.000000         0.000000            0.000000   \n",
       "25%         1.000000       6.000000         6.000000            0.000000   \n",
       "50%         2.000000      12.000000         6.000000            0.000000   \n",
       "75%         5.000000      30.000000         6.000000            0.000000   \n",
       "max      4997.517944     438.000000        12.000000            3.000000   \n",
       "\n",
       "           payback30      payback90     Unnamed: 0          label  \n",
       "count  209593.000000  209593.000000  209593.000000  209593.000000  \n",
       "mean        3.398826       4.321485  104797.000000       0.875177  \n",
       "std         8.813729      10.308108   60504.431823       0.330519  \n",
       "min         0.000000       0.000000       1.000000       0.000000  \n",
       "25%         0.000000       0.000000   52399.000000       1.000000  \n",
       "50%         0.000000       1.666667  104797.000000       1.000000  \n",
       "75%         3.750000       4.500000  157195.000000       1.000000  \n",
       "max       171.500000     171.500000  209593.000000       1.000000  \n",
       "\n",
       "[8 rows x 34 columns]"
      ]
     },
     "execution_count": 11,
     "metadata": {},
     "output_type": "execute_result"
    }
   ],
   "source": [
    "df_new.describe()"
   ]
  },
  {
   "cell_type": "markdown",
   "metadata": {
    "id": "Ls7E1crBAAE5"
   },
   "source": [
    "Checking Skewness"
   ]
  },
  {
   "cell_type": "code",
   "execution_count": 12,
   "metadata": {
    "colab": {
     "base_uri": "https://localhost:8080/"
    },
    "id": "JXeZSL96_kNZ",
    "outputId": "66100c35-d6fa-43b3-c1b6-406a6379cff6"
   },
   "outputs": [
    {
     "data": {
      "text/plain": [
       "aon                     1.039295e+01\n",
       "daily_decr30            3.946230e+00\n",
       "daily_decr90            4.252565e+00\n",
       "rental30                4.521929e+00\n",
       "rental90                4.437681e+00\n",
       "last_rech_date_ma       1.479097e+01\n",
       "last_rech_date_da       1.481486e+01\n",
       "last_rech_amt_ma        3.781149e+00\n",
       "cnt_ma_rech30           3.283842e+00\n",
       "fr_ma_rech30            1.477283e+01\n",
       "sumamnt_ma_rech30       6.386787e+00\n",
       "medianamnt_ma_rech30    3.512324e+00\n",
       "medianmarechprebal30    1.477988e+01\n",
       "cnt_ma_rech90           3.425254e+00\n",
       "fr_ma_rech90            2.285423e+00\n",
       "sumamnt_ma_rech90       4.897950e+00\n",
       "medianamnt_ma_rech90    3.752706e+00\n",
       "medianmarechprebal90    4.488050e+01\n",
       "cnt_da_rech30           1.781836e+01\n",
       "fr_da_rech30            1.477643e+01\n",
       "cnt_da_rech90           2.726728e+01\n",
       "fr_da_rech90            2.898808e+01\n",
       "cnt_loans30             2.713421e+00\n",
       "amnt_loans30            2.975719e+00\n",
       "maxamnt_loans30         1.765805e+01\n",
       "medianamnt_loans30      4.551043e+00\n",
       "cnt_loans90             1.659441e+01\n",
       "amnt_loans90            3.150006e+00\n",
       "maxamnt_loans90         1.678304e+00\n",
       "medianamnt_loans90      4.895720e+00\n",
       "payback30               8.310695e+00\n",
       "payback90               6.899951e+00\n",
       "Unnamed: 0              2.854282e-15\n",
       "label                  -2.270254e+00\n",
       "dtype: float64"
      ]
     },
     "execution_count": 12,
     "metadata": {},
     "output_type": "execute_result"
    }
   ],
   "source": [
    "df_new.skew()"
   ]
  },
  {
   "cell_type": "code",
   "execution_count": null,
   "metadata": {
    "colab": {
     "base_uri": "https://localhost:8080/"
    },
    "id": "l-8xAudEZBBT",
    "outputId": "2c490d1f-621e-4c0e-aa65-bdfc69745e50"
   },
   "outputs": [
    {
     "data": {
      "text/plain": [
       "aon                     0\n",
       "daily_decr30            0\n",
       "daily_decr90            0\n",
       "rental30                0\n",
       "rental90                0\n",
       "last_rech_date_ma       0\n",
       "last_rech_date_da       0\n",
       "last_rech_amt_ma        0\n",
       "cnt_ma_rech30           0\n",
       "fr_ma_rech30            0\n",
       "sumamnt_ma_rech30       0\n",
       "medianamnt_ma_rech30    0\n",
       "medianmarechprebal30    0\n",
       "cnt_ma_rech90           0\n",
       "fr_ma_rech90            0\n",
       "sumamnt_ma_rech90       0\n",
       "medianamnt_ma_rech90    0\n",
       "medianmarechprebal90    0\n",
       "cnt_da_rech30           0\n",
       "fr_da_rech30            0\n",
       "cnt_da_rech90           0\n",
       "fr_da_rech90            0\n",
       "cnt_loans30             0\n",
       "amnt_loans30            0\n",
       "maxamnt_loans30         0\n",
       "medianamnt_loans30      0\n",
       "cnt_loans90             0\n",
       "amnt_loans90            0\n",
       "maxamnt_loans90         0\n",
       "medianamnt_loans90      0\n",
       "payback30               0\n",
       "payback90               0\n",
       "Unnamed: 0              0\n",
       "label                   0\n",
       "dtype: int64"
      ]
     },
     "execution_count": 18,
     "metadata": {
      "tags": []
     },
     "output_type": "execute_result"
    }
   ],
   "source": [
    "df_new.isnull().sum()"
   ]
  },
  {
   "cell_type": "markdown",
   "metadata": {
    "id": "d0QiOd3LASOE"
   },
   "source": [
    "All the Attributes are Skewed with more the thresold level of +/- .55"
   ]
  },
  {
   "cell_type": "markdown",
   "metadata": {
    "id": "Ku2gvU9LLuOI"
   },
   "source": [
    "Checking Outliers"
   ]
  },
  {
   "cell_type": "code",
   "execution_count": 14,
   "metadata": {
    "colab": {
     "base_uri": "https://localhost:8080/",
     "height": 1000
    },
    "id": "QqjGLhpVLrRB",
    "outputId": "2f0b86a0-f133-48c9-9bbc-ebeb077d910d"
   },
   "outputs": [
    {
     "name": "stderr",
     "output_type": "stream",
     "text": [
      "<ipython-input-14-9260372da47f>:10: UserWarning: Tight layout not applied. tight_layout cannot make axes width small enough to accommodate all axes decorations\n",
      "  plt.tight_layout()\n",
      "<ipython-input-14-9260372da47f>:10: UserWarning: Tight layout not applied. tight_layout cannot make axes width small enough to accommodate all axes decorations\n",
      "  plt.tight_layout()\n",
      "<ipython-input-14-9260372da47f>:10: UserWarning: Tight layout not applied. tight_layout cannot make axes width small enough to accommodate all axes decorations\n",
      "  plt.tight_layout()\n",
      "<ipython-input-14-9260372da47f>:10: UserWarning: Tight layout not applied. tight_layout cannot make axes width small enough to accommodate all axes decorations\n",
      "  plt.tight_layout()\n",
      "<ipython-input-14-9260372da47f>:10: UserWarning: Tight layout not applied. tight_layout cannot make axes width small enough to accommodate all axes decorations\n",
      "  plt.tight_layout()\n",
      "<ipython-input-14-9260372da47f>:10: UserWarning: Tight layout not applied. tight_layout cannot make axes width small enough to accommodate all axes decorations\n",
      "  plt.tight_layout()\n",
      "<ipython-input-14-9260372da47f>:10: UserWarning: Tight layout not applied. tight_layout cannot make axes width small enough to accommodate all axes decorations\n",
      "  plt.tight_layout()\n",
      "<ipython-input-14-9260372da47f>:10: UserWarning: Tight layout not applied. tight_layout cannot make axes width small enough to accommodate all axes decorations\n",
      "  plt.tight_layout()\n",
      "<ipython-input-14-9260372da47f>:10: UserWarning: Tight layout not applied. tight_layout cannot make axes width small enough to accommodate all axes decorations\n",
      "  plt.tight_layout()\n",
      "<ipython-input-14-9260372da47f>:10: UserWarning: Tight layout not applied. tight_layout cannot make axes width small enough to accommodate all axes decorations\n",
      "  plt.tight_layout()\n",
      "<ipython-input-14-9260372da47f>:10: UserWarning: Tight layout not applied. tight_layout cannot make axes width small enough to accommodate all axes decorations\n",
      "  plt.tight_layout()\n",
      "<ipython-input-14-9260372da47f>:10: UserWarning: Tight layout not applied. tight_layout cannot make axes width small enough to accommodate all axes decorations\n",
      "  plt.tight_layout()\n",
      "<ipython-input-14-9260372da47f>:10: UserWarning: Tight layout not applied. tight_layout cannot make axes width small enough to accommodate all axes decorations\n",
      "  plt.tight_layout()\n",
      "<ipython-input-14-9260372da47f>:10: UserWarning: Tight layout not applied. tight_layout cannot make axes width small enough to accommodate all axes decorations\n",
      "  plt.tight_layout()\n",
      "<ipython-input-14-9260372da47f>:10: UserWarning: Tight layout not applied. tight_layout cannot make axes width small enough to accommodate all axes decorations\n",
      "  plt.tight_layout()\n",
      "<ipython-input-14-9260372da47f>:10: UserWarning: Tight layout not applied. tight_layout cannot make axes width small enough to accommodate all axes decorations\n",
      "  plt.tight_layout()\n",
      "<ipython-input-14-9260372da47f>:10: UserWarning: Tight layout not applied. tight_layout cannot make axes width small enough to accommodate all axes decorations\n",
      "  plt.tight_layout()\n",
      "<ipython-input-14-9260372da47f>:10: UserWarning: Tight layout not applied. tight_layout cannot make axes width small enough to accommodate all axes decorations\n",
      "  plt.tight_layout()\n",
      "<ipython-input-14-9260372da47f>:10: UserWarning: Tight layout not applied. tight_layout cannot make axes width small enough to accommodate all axes decorations\n",
      "  plt.tight_layout()\n"
     ]
    },
    {
     "data": {
      "image/png": "[encoded data removed]",
      "text/plain": [
       "<Figure size 720x2160 with 21 Axes>"
      ]
     },
     "metadata": {
      "needs_background": "light"
     },
     "output_type": "display_data"
    }
   ],
   "source": [
    "#Checking Outlier\n",
    "\n",
    "collist=df_new.select_dtypes(include=['float']).columns\n",
    "ncol=10\n",
    "nrows=9\n",
    "plt.figure(figsize=(ncol,3*ncol))\n",
    "for i in range (0,len(collist)):\n",
    "    plt.subplot(nrows,ncol,i+1)\n",
    "    sb.boxplot(df[collist[i]],color='green',orient='v')\n",
    "    plt.tight_layout()\n",
    "    \n",
    "    import warnings\n",
    "warnings.filterwarnings('ignore')"
   ]
  },
  {
   "cell_type": "code",
   "execution_count": null,
   "metadata": {
    "id": "31GtafIZAOSj"
   },
   "outputs": [],
   "source": [
    "#treating the skewness with Square and Cube Root Method\n",
    "\n",
    "df_new.skew()\n",
    "for col in df_new.skew().index:\n",
    "    if col in df_new.describe().columns:\n",
    "        if df_new[col].skew()>0.55:\n",
    "            df_new[col]=np.sqrt(df_new[col])\n",
    "        if df_new[col].skew()<0.55:\n",
    "            df_new[col]=np.cbrt(df_new[col])"
   ]
  },
  {
   "cell_type": "code",
   "execution_count": 15,
   "metadata": {
    "id": "e_ionnAKApTV"
   },
   "outputs": [],
   "source": [
    "from scipy.stats import zscore\n",
    "import numpy as np\n",
    "z=np.abs(zscore(df_new))\n",
    "z.shape\n",
    "import warnings\n",
    "warnings.filterwarnings('ignore')"
   ]
  },
  {
   "cell_type": "code",
   "execution_count": 16,
   "metadata": {
    "colab": {
     "base_uri": "https://localhost:8080/"
    },
    "id": "0JAV_ni1GIv5",
    "outputId": "d8cbd980-a672-4fc1-ba85-07203b565633"
   },
   "outputs": [
    {
     "name": "stdout",
     "output_type": "stream",
     "text": [
      "(array([    21,     22,     22, ..., 209586, 209587, 209587], dtype=int32), array([14, 14, 31, ..., 27, 25, 29], dtype=int32))\n"
     ]
    }
   ],
   "source": [
    "thresold =3 \n",
    "print (np.where(z>3))"
   ]
  },
  {
   "cell_type": "code",
   "execution_count": 17,
   "metadata": {
    "id": "K3UlfbKXMWOR"
   },
   "outputs": [],
   "source": [
    "x = df_new"
   ]
  },
  {
   "cell_type": "code",
   "execution_count": 18,
   "metadata": {
    "colab": {
     "base_uri": "https://localhost:8080/"
    },
    "id": "for3qjtDMiMf",
    "outputId": "a0ee19cf-a72c-4946-e855-19eca62ee9e6"
   },
   "outputs": [
    {
     "data": {
      "text/plain": [
       "0         0\n",
       "1         1\n",
       "2         1\n",
       "3         1\n",
       "4         1\n",
       "         ..\n",
       "209588    1\n",
       "209589    1\n",
       "209590    1\n",
       "209591    1\n",
       "209592    1\n",
       "Name: label, Length: 209593, dtype: int64"
      ]
     },
     "execution_count": 18,
     "metadata": {},
     "output_type": "execute_result"
    }
   ],
   "source": [
    "y = df.iloc[:,1]\n",
    "y"
   ]
  },
  {
   "cell_type": "code",
   "execution_count": 19,
   "metadata": {
    "colab": {
     "base_uri": "https://localhost:8080/"
    },
    "id": "Rk44kJ3OM49J",
    "outputId": "e044801f-6139-4af5-c727-4a3f79341b9b"
   },
   "outputs": [
    {
     "name": "stdout",
     "output_type": "stream",
     "text": [
      "(209593, 34) \t\t (209593,)\n"
     ]
    }
   ],
   "source": [
    "print (x.shape,'\\t\\t',y.shape)"
   ]
  },
  {
   "cell_type": "code",
   "execution_count": 20,
   "metadata": {
    "colab": {
     "base_uri": "https://localhost:8080/"
    },
    "id": "7GHLoHLsM4sb",
    "outputId": "c644739d-4d16-40f5-d019-a74b2361502f"
   },
   "outputs": [
    {
     "data": {
      "text/plain": [
       "array([[-0.10357685, -0.25229941, -0.27634619, ...,  2.39409346,\n",
       "        -1.73204254, -2.64789583],\n",
       "       [-0.09776412,  0.73103667,  0.5533797 , ..., -0.41923266,\n",
       "        -1.73202602,  0.37765836],\n",
       "       [-0.10010243, -0.43201111, -0.42903256, ..., -0.41923266,\n",
       "        -1.73200949,  0.37765836],\n",
       "       ...,\n",
       "       [-0.09378769,  0.70079045,  0.53319431, ..., -0.04735622,\n",
       "         1.73200949,  0.37765836],\n",
       "       [-0.08428915,  0.77075515,  0.59455827, ...,  0.59938541,\n",
       "         1.73202602,  0.37765836],\n",
       "       [-0.08628398, -0.09674426, -0.14174607, ..., -0.41923266,\n",
       "         1.73204254,  0.37765836]])"
      ]
     },
     "execution_count": 20,
     "metadata": {},
     "output_type": "execute_result"
    }
   ],
   "source": [
    "#Scaling the input Values\n",
    "\n",
    "from sklearn.preprocessing import StandardScaler\n",
    "sc=StandardScaler()\n",
    "x_t=sc.fit_transform(x)\n",
    "x_t"
   ]
  },
  {
   "cell_type": "code",
   "execution_count": 21,
   "metadata": {
    "colab": {
     "base_uri": "https://localhost:8080/"
    },
    "id": "Vif5xUqEM4pC",
    "outputId": "aac65fa9-932e-48e5-c74e-d7707c5e3ec2"
   },
   "outputs": [
    {
     "data": {
      "text/plain": [
       "array([[-0.17711186,  0.332156  ,  0.29918138, ...,  1.7839639 ,\n",
       "        -2.19619588, -2.64789583],\n",
       "       [ 0.03645291,  1.11602076,  1.04508396, ..., -1.01891694,\n",
       "        -2.19584505,  0.37765836],\n",
       "       [-0.03465905, -0.00750823, -0.02820273, ..., -1.01891694,\n",
       "        -2.19552754,  0.37765836],\n",
       "       ...,\n",
       "       [ 0.13457681,  1.10045475,  1.03342362, ...,  0.75293936,\n",
       "         1.55379524,  0.37765836],\n",
       "       [ 0.30910144,  1.13605673,  1.06838078, ...,  1.3378306 ,\n",
       "         1.55380789,  0.37765836],\n",
       "       [ 0.27706283,  0.52502128,  0.48715657, ..., -1.01891694,\n",
       "         1.55382055,  0.37765836]])"
      ]
     },
     "execution_count": 21,
     "metadata": {},
     "output_type": "execute_result"
    }
   ],
   "source": [
    "from sklearn.preprocessing import power_transform\n",
    "x=power_transform(x,method='yeo-johnson')\n",
    "x"
   ]
  },
  {
   "cell_type": "code",
   "execution_count": 22,
   "metadata": {
    "id": "KzeVt5TXM4kT"
   },
   "outputs": [],
   "source": [
    "from sklearn.model_selection import train_test_split\n",
    "from sklearn.linear_model import LinearRegression\n",
    "lr=LinearRegression()\n",
    "from sklearn.metrics import r2_score"
   ]
  },
  {
   "cell_type": "code",
   "execution_count": 23,
   "metadata": {
    "colab": {
     "base_uri": "https://localhost:8080/"
    },
    "id": "bLum3aBB1h7R",
    "outputId": "d3557af2-d229-443a-de42-ca31f7901953"
   },
   "outputs": [
    {
     "data": {
      "text/plain": [
       "Index(['aon', 'daily_decr30', 'daily_decr90', 'rental30', 'rental90',\n",
       "       'last_rech_date_ma', 'last_rech_date_da', 'last_rech_amt_ma',\n",
       "       'cnt_ma_rech30', 'fr_ma_rech30', 'sumamnt_ma_rech30',\n",
       "       'medianamnt_ma_rech30', 'medianmarechprebal30', 'cnt_ma_rech90',\n",
       "       'fr_ma_rech90', 'sumamnt_ma_rech90', 'medianamnt_ma_rech90',\n",
       "       'medianmarechprebal90', 'cnt_da_rech30', 'fr_da_rech30',\n",
       "       'cnt_da_rech90', 'fr_da_rech90', 'cnt_loans30', 'amnt_loans30',\n",
       "       'maxamnt_loans30', 'medianamnt_loans30', 'cnt_loans90', 'amnt_loans90',\n",
       "       'maxamnt_loans90', 'medianamnt_loans90', 'payback30', 'payback90',\n",
       "       'Unnamed: 0', 'label'],\n",
       "      dtype='object')"
      ]
     },
     "execution_count": 23,
     "metadata": {},
     "output_type": "execute_result"
    }
   ],
   "source": [
    "df_new.columns"
   ]
  },
  {
   "cell_type": "code",
   "execution_count": 25,
   "metadata": {
    "id": "3j0bR4kd2BTj"
   },
   "outputs": [],
   "source": [
    "# Convert the field from an float to Interger\n",
    "\n",
    "ft = ['aon', 'daily_decr30', 'daily_decr90', 'rental30', 'rental90',\n",
    "       'last_rech_date_ma', 'last_rech_date_da', 'last_rech_amt_ma',\n",
    "       'cnt_ma_rech30', 'fr_ma_rech30', 'sumamnt_ma_rech30',\n",
    "       'medianamnt_ma_rech30', 'medianmarechprebal30', 'cnt_ma_rech90',\n",
    "       'fr_ma_rech90', 'sumamnt_ma_rech90', 'medianamnt_ma_rech90',\n",
    "       'medianmarechprebal90', 'cnt_da_rech30', 'fr_da_rech30',\n",
    "       'cnt_da_rech90', 'fr_da_rech90', 'cnt_loans30', 'amnt_loans30',\n",
    "       'maxamnt_loans30', 'medianamnt_loans30', 'cnt_loans90', 'amnt_loans90',\n",
    "       'maxamnt_loans90', 'medianamnt_loans90', 'payback30', 'payback90',\n",
    "       'Unnamed: 0', 'label']\n",
    "\n",
    "\n",
    "for col in ft:\n",
    "    df_new[col] = df[col].astype('int64')\n",
    "    df_new[col].dtypes"
   ]
  },
  {
   "cell_type": "code",
   "execution_count": 27,
   "metadata": {
    "colab": {
     "base_uri": "https://localhost:8080/"
    },
    "id": "foogKSFw2by-",
    "outputId": "657318a4-2be8-49f2-8ec5-58f5635ea745"
   },
   "outputs": [
    {
     "data": {
      "text/plain": [
       "aon                     int64\n",
       "daily_decr30            int64\n",
       "daily_decr90            int64\n",
       "rental30                int64\n",
       "rental90                int64\n",
       "last_rech_date_ma       int64\n",
       "last_rech_date_da       int64\n",
       "last_rech_amt_ma        int64\n",
       "cnt_ma_rech30           int64\n",
       "fr_ma_rech30            int64\n",
       "sumamnt_ma_rech30       int64\n",
       "medianamnt_ma_rech30    int64\n",
       "medianmarechprebal30    int64\n",
       "cnt_ma_rech90           int64\n",
       "fr_ma_rech90            int64\n",
       "sumamnt_ma_rech90       int64\n",
       "medianamnt_ma_rech90    int64\n",
       "medianmarechprebal90    int64\n",
       "cnt_da_rech30           int64\n",
       "fr_da_rech30            int64\n",
       "cnt_da_rech90           int64\n",
       "fr_da_rech90            int64\n",
       "cnt_loans30             int64\n",
       "amnt_loans30            int64\n",
       "maxamnt_loans30         int64\n",
       "medianamnt_loans30      int64\n",
       "cnt_loans90             int64\n",
       "amnt_loans90            int64\n",
       "maxamnt_loans90         int64\n",
       "medianamnt_loans90      int64\n",
       "payback30               int64\n",
       "payback90               int64\n",
       "Unnamed: 0              int64\n",
       "label                   int64\n",
       "dtype: object"
      ]
     },
     "execution_count": 27,
     "metadata": {},
     "output_type": "execute_result"
    }
   ],
   "source": [
    "df_new.dtypes"
   ]
  },
  {
   "cell_type": "code",
   "execution_count": 28,
   "metadata": {
    "colab": {
     "base_uri": "https://localhost:8080/"
    },
    "id": "R9Wo40R-M4g9",
    "outputId": "517b566d-5021-4081-996b-684edaf068be"
   },
   "outputs": [
    {
     "name": "stdout",
     "output_type": "stream",
     "text": [
      "At Random State 0 . The Model Is Performing Very Well\n",
      "At Random State:- 0\n",
      "Training r2_score is 100.0\n",
      "Testing r2_score is 100.0\n",
      "At Random State 1 . The Model Is Performing Very Well\n",
      "At Random State:- 1\n",
      "Training r2_score is 100.0\n",
      "Testing r2_score is 100.0\n",
      "At Random State 2 . The Model Is Performing Very Well\n",
      "At Random State:- 2\n",
      "Training r2_score is 100.0\n",
      "Testing r2_score is 100.0\n",
      "At Random State 3 . The Model Is Performing Very Well\n",
      "At Random State:- 3\n",
      "Training r2_score is 100.0\n",
      "Testing r2_score is 100.0\n",
      "At Random State 4 . The Model Is Performing Very Well\n",
      "At Random State:- 4\n",
      "Training r2_score is 100.0\n",
      "Testing r2_score is 100.0\n",
      "At Random State 5 . The Model Is Performing Very Well\n",
      "At Random State:- 5\n",
      "Training r2_score is 100.0\n",
      "Testing r2_score is 100.0\n",
      "At Random State 6 . The Model Is Performing Very Well\n",
      "At Random State:- 6\n",
      "Training r2_score is 100.0\n",
      "Testing r2_score is 100.0\n",
      "At Random State 7 . The Model Is Performing Very Well\n",
      "At Random State:- 7\n",
      "Training r2_score is 100.0\n",
      "Testing r2_score is 100.0\n",
      "At Random State 8 . The Model Is Performing Very Well\n",
      "At Random State:- 8\n",
      "Training r2_score is 100.0\n",
      "Testing r2_score is 100.0\n",
      "At Random State 9 . The Model Is Performing Very Well\n",
      "At Random State:- 9\n",
      "Training r2_score is 100.0\n",
      "Testing r2_score is 100.0\n"
     ]
    }
   ],
   "source": [
    "max_scr=0\n",
    "for i in range(0,10):\n",
    "    x_train,x_test,y_train,y_test=train_test_split(x_t,y,test_size=0.20,random_state=i)\n",
    "    lr.fit(x_train,y_train)\n",
    "    pred_train=lr.predict(x_train)\n",
    "    pred_test=lr.predict(x_test)\n",
    "    if round (r2_score(y_train,pred_train)*100,2)==round(r2_score(y_test,pred_test)*100,2):\n",
    "        print(\"At Random State\",i,\". The Model Is Performing Very Well\")\n",
    "        print(\"At Random State:-\",i)\n",
    "        print(\"Training r2_score is\",r2_score(y_train,pred_train)*100)\n",
    "        print(\"Testing r2_score is\",r2_score(y_test,pred_test)*100)"
   ]
  },
  {
   "cell_type": "code",
   "execution_count": 29,
   "metadata": {
    "id": "h3M7R_VMNZY3"
   },
   "outputs": [],
   "source": [
    "x_train,x_test,y_train,y_test=train_test_split(x_t,y,test_size=0.20,random_state=175) #Random state = 20"
   ]
  },
  {
   "cell_type": "code",
   "execution_count": 30,
   "metadata": {
    "id": "CDHOXiwDNqS4"
   },
   "outputs": [],
   "source": [
    "from sklearn.model_selection import GridSearchCV\n",
    "from sklearn.model_selection import cross_val_score\n",
    "import warnings\n",
    "warnings.filterwarnings('ignore')"
   ]
  },
  {
   "cell_type": "markdown",
   "metadata": {
    "id": "RHDwY1LIN0rn"
   },
   "source": [
    "Regularlisation - Lasso "
   ]
  },
  {
   "cell_type": "code",
   "execution_count": 31,
   "metadata": {
    "colab": {
     "base_uri": "https://localhost:8080/"
    },
    "id": "wzdqzhe6N5wf",
    "outputId": "a325090a-30d4-4618-c01e-3c7fd77576e4"
   },
   "outputs": [
    {
     "name": "stdout",
     "output_type": "stream",
     "text": [
      "{'alpha': 1e-05, 'random_state': 0}\n"
     ]
    }
   ],
   "source": [
    "from sklearn.linear_model import Lasso\n",
    "parameters ={'alpha':[.00001,.0001,.001,.01,.1,1,10],'random_state':list(range(0,10))}\n",
    "ls=Lasso()\n",
    "clf=GridSearchCV(ls,parameters)\n",
    "clf.fit(x_train,y_train)\n",
    "print (clf.best_params_)"
   ]
  },
  {
   "cell_type": "code",
   "execution_count": 32,
   "metadata": {
    "colab": {
     "base_uri": "https://localhost:8080/"
    },
    "id": "RY1yyk3wOLeF",
    "outputId": "382b8588-edeb-46e7-9d00-4b83931c2ed6"
   },
   "outputs": [
    {
     "name": "stdout",
     "output_type": "stream",
     "text": [
      "At CV :- 2\n",
      "Cross Validation Score is :- 99.99999084559663\n",
      "R2_score is :- 99.99999083206609\n",
      "\n",
      "\n",
      "At CV :- 3\n",
      "Cross Validation Score is :- 99.99999084584479\n",
      "R2_score is :- 99.99999083206609\n",
      "\n",
      "\n",
      "At CV :- 4\n",
      "Cross Validation Score is :- 99.99999084544314\n",
      "R2_score is :- 99.99999083206609\n",
      "\n",
      "\n",
      "At CV :- 5\n",
      "Cross Validation Score is :- 99.99999084568977\n",
      "R2_score is :- 99.99999083206609\n",
      "\n",
      "\n",
      "At CV :- 6\n",
      "Cross Validation Score is :- 99.99999084561532\n",
      "R2_score is :- 99.99999083206609\n",
      "\n",
      "\n",
      "At CV :- 7\n",
      "Cross Validation Score is :- 99.9999908456806\n",
      "R2_score is :- 99.99999083206609\n",
      "\n",
      "\n",
      "At CV :- 8\n",
      "Cross Validation Score is :- 99.99999084545547\n",
      "R2_score is :- 99.99999083206609\n",
      "\n",
      "\n",
      "At CV :- 9\n",
      "Cross Validation Score is :- 99.9999908453681\n",
      "R2_score is :- 99.99999083206609\n",
      "\n",
      "\n"
     ]
    }
   ],
   "source": [
    "ls=Lasso(alpha=0.0001,random_state=0)\n",
    "ls.fit(x_train,y_train)\n",
    "ls.score(x_train,y_train)\n",
    "pred_ls=ls.predict(x_test)\n",
    "\n",
    "lss=r2_score(y_test,pred_ls)\n",
    "for j in range(2,10):\n",
    "    lsscore = cross_val_score(ls,x_t,y,cv=j)\n",
    "    lsc=lsscore.mean()\n",
    "    print(\"At CV :-\",j)\n",
    "    print(\"Cross Validation Score is :-\",lsc*100)\n",
    "    print (\"R2_score is :-\",lss*100)\n",
    "    print('\\n')"
   ]
  },
  {
   "cell_type": "code",
   "execution_count": 33,
   "metadata": {
    "colab": {
     "base_uri": "https://localhost:8080/"
    },
    "id": "pTahq7LDOY_v",
    "outputId": "a380805d-d023-4a29-dd1f-66eecf7de758"
   },
   "outputs": [
    {
     "name": "stdout",
     "output_type": "stream",
     "text": [
      "Error:\n",
      "Mean Absolute Error: 6.62293035516008e-05\n",
      "Mean Square Error: 1.0045669535635966e-08\n",
      "Root Mean Sqaured Error: 0.0001002280875585081\n"
     ]
    }
   ],
   "source": [
    "from sklearn.metrics import mean_squared_error,mean_absolute_error\n",
    "print(\"Error:\")\n",
    "print(\"Mean Absolute Error:\",mean_absolute_error(y_test,pred_ls))\n",
    "print(\"Mean Square Error:\",mean_squared_error(y_test,pred_ls))\n",
    "print(\"Root Mean Sqaured Error:\", np.sqrt(mean_squared_error(y_test,pred_ls)))"
   ]
  },
  {
   "cell_type": "code",
   "execution_count": 34,
   "metadata": {
    "colab": {
     "base_uri": "https://localhost:8080/",
     "height": 412
    },
    "id": "SKsyEkAtOfGV",
    "outputId": "4ef25ce1-daa7-4ad0-8c71-1dacfcb1ae8a"
   },
   "outputs": [
    {
     "data": {
      "image/png": "[encoded data removed]",
      "text/plain": [
       "<Figure size 576x432 with 1 Axes>"
      ]
     },
     "metadata": {
      "needs_background": "light"
     },
     "output_type": "display_data"
    }
   ],
   "source": [
    "plt.figure(figsize=(8,6))\n",
    "plt.scatter(x=y_test,y=pred_ls,color='r')\n",
    "plt.plot(y_test,y_test,color='b')\n",
    "plt.xlabel('Actual Credit Paid in 5 Days',fontsize=14)\n",
    "plt.ylabel('Predicted Credit Paid in 5 Days',fontsize=14)\n",
    "plt.title('Lasso Regression',fontsize=18)\n",
    "plt.show()"
   ]
  },
  {
   "cell_type": "markdown",
   "metadata": {
    "id": "-Cvj8MHxO_CQ"
   },
   "source": [
    "Data Point is intracting with the predicted line"
   ]
  },
  {
   "cell_type": "markdown",
   "metadata": {
    "id": "6cgokBe-PQQD"
   },
   "source": [
    "Ridge Regression\n"
   ]
  },
  {
   "cell_type": "code",
   "execution_count": 35,
   "metadata": {
    "colab": {
     "base_uri": "https://localhost:8080/"
    },
    "id": "MQOiKpMEPU1Q",
    "outputId": "d7e3a274-e822-4cf3-8a56-8b271f56c7a5"
   },
   "outputs": [
    {
     "name": "stdout",
     "output_type": "stream",
     "text": [
      "{'alpha': 0.0001, 'fit_intercept': True, 'normalize': False, 'random_state': 1}\n"
     ]
    }
   ],
   "source": [
    "from sklearn.linear_model import Ridge\n",
    "parameters ={'alpha':[.0001,.001,.01,.1,1],'fit_intercept':[True,False],'normalize':[True,False],'random_state':[1,2,3,4,5,6,7,8,9]}\n",
    "rd=Ridge()\n",
    "clf=GridSearchCV(rd,parameters)\n",
    "clf.fit(x_train,y_train)\n",
    "print (clf.best_params_)"
   ]
  },
  {
   "cell_type": "code",
   "execution_count": 36,
   "metadata": {
    "colab": {
     "base_uri": "https://localhost:8080/"
    },
    "id": "-KQtI3sdPXds",
    "outputId": "7269826f-f869-47f8-9a2d-c1364e444d19"
   },
   "outputs": [
    {
     "name": "stdout",
     "output_type": "stream",
     "text": [
      "At CV :- 2\n",
      "Cross Validation Score is :- 99.99999998983795\n",
      "R2_score is :- 99.99999998983795\n",
      "\n",
      "\n",
      "At CV :- 3\n",
      "Cross Validation Score is :- 99.99999999428626\n",
      "R2_score is :- 99.99999999428626\n",
      "\n",
      "\n",
      "At CV :- 4\n",
      "Cross Validation Score is :- 99.9999999954857\n",
      "R2_score is :- 99.9999999954857\n",
      "\n",
      "\n",
      "At CV :- 5\n",
      "Cross Validation Score is :- 99.9999999960322\n",
      "R2_score is :- 99.9999999960322\n",
      "\n",
      "\n",
      "At CV :- 6\n",
      "Cross Validation Score is :- 99.99999999634346\n",
      "R2_score is :- 99.99999999634346\n",
      "\n",
      "\n",
      "At CV :- 7\n",
      "Cross Validation Score is :- 99.99999999654412\n",
      "R2_score is :- 99.99999999654412\n",
      "\n",
      "\n",
      "At CV :- 8\n",
      "Cross Validation Score is :- 99.99999999668363\n",
      "R2_score is :- 99.99999999668363\n",
      "\n",
      "\n",
      "At CV :- 9\n",
      "Cross Validation Score is :- 99.99999999678647\n",
      "R2_score is :- 99.99999999678647\n",
      "\n",
      "\n"
     ]
    }
   ],
   "source": [
    "ridge=Ridge(alpha=0.0001,random_state=1,fit_intercept=True,normalize= False)\n",
    "rd.fit(x_train,y_train)\n",
    "rd.score(x_train,y_train)\n",
    "pred_rd=rd.predict(x_test)\n",
    "\n",
    "rdd=r2_score(y_test,pred_rd)\n",
    "for j in range(2,10):\n",
    "    rdscore = cross_val_score(rd,x_t,y,cv=j)\n",
    "    rdc=rdscore.mean()\n",
    "    print(\"At CV :-\",j)\n",
    "    print(\"Cross Validation Score is :-\",rdc*100)\n",
    "    print (\"R2_score is :-\",rdc*100)\n",
    "    print('\\n')"
   ]
  },
  {
   "cell_type": "code",
   "execution_count": 37,
   "metadata": {
    "colab": {
     "base_uri": "https://localhost:8080/",
     "height": 412
    },
    "id": "lC4vTTSOP7yx",
    "outputId": "baf2a8f4-1d18-4d0e-8cea-8cc3b4ee0c82"
   },
   "outputs": [
    {
     "data": {
      "image/png": "[encoded data removed]",
      "text/plain": [
       "<Figure size 576x432 with 1 Axes>"
      ]
     },
     "metadata": {
      "needs_background": "light"
     },
     "output_type": "display_data"
    }
   ],
   "source": [
    "plt.figure(figsize=(8,6))\n",
    "plt.scatter(x=y_test,y=pred_rd,color='r')\n",
    "plt.plot(y_test,y_test,color='b')\n",
    "plt.xlabel('Actual Credit Paid in 5 Days',fontsize=14)\n",
    "plt.ylabel('Predicted Credit Paid in 5 Days',fontsize=14)\n",
    "plt.title('Rigde Regression',fontsize=18)\n",
    "plt.show()"
   ]
  },
  {
   "cell_type": "markdown",
   "metadata": {
    "id": "fZqlAipVQPtO"
   },
   "source": [
    "Same as Lasso Model all Data points are interacting with the predictd line"
   ]
  },
  {
   "cell_type": "markdown",
   "metadata": {
    "id": "xSgcySdWQleZ"
   },
   "source": [
    "Ensemblier Technique - Decision Tree"
   ]
  },
  {
   "cell_type": "code",
   "execution_count": 38,
   "metadata": {
    "colab": {
     "base_uri": "https://localhost:8080/"
    },
    "id": "isNFeT-nQYDB",
    "outputId": "a8e8771e-1b70-4618-ac32-7cf67936942f"
   },
   "outputs": [
    {
     "name": "stdout",
     "output_type": "stream",
     "text": [
      "{'criterion': 'mse', 'splitter': 'best'}\n"
     ]
    }
   ],
   "source": [
    "from sklearn.tree import DecisionTreeRegressor\n",
    "parameters={'criterion':['mse','friedman_mse','mse'],'splitter':['best','random']}\n",
    "dt=DecisionTreeRegressor()\n",
    "clf=GridSearchCV(dt,parameters)\n",
    "clf.fit(x_train,y_train)\n",
    "print (clf.best_params_)"
   ]
  },
  {
   "cell_type": "code",
   "execution_count": 39,
   "metadata": {
    "colab": {
     "base_uri": "https://localhost:8080/"
    },
    "id": "7uBTEmrrQrNf",
    "outputId": "0f6d2f47-7ac2-48b5-b9d7-14722419a086"
   },
   "outputs": [
    {
     "name": "stdout",
     "output_type": "stream",
     "text": [
      "r2_score: 100.0\n",
      "Cross Val Score: 100.0\n"
     ]
    }
   ],
   "source": [
    "dt=DecisionTreeRegressor(criterion='mse', splitter='best')\n",
    "dt.fit(x_train,y_train)\n",
    "dt.score(x_train,y_train)\n",
    "pred_decision=dt.predict(x_test)\n",
    "dts=r2_score(y_test,pred_decision)\n",
    "print(\"r2_score:\",dts*100)\n",
    "dtscore = cross_val_score(dt,x_t,y,cv=3)\n",
    "dtc=dtscore.mean()\n",
    "print('Cross Val Score:',dtc*100)"
   ]
  },
  {
   "cell_type": "code",
   "execution_count": 40,
   "metadata": {
    "colab": {
     "base_uri": "https://localhost:8080/"
    },
    "id": "GrmiQi36Qz-U",
    "outputId": "2ed72a91-13be-4c9f-e227-94e2e225db8e"
   },
   "outputs": [
    {
     "name": "stdout",
     "output_type": "stream",
     "text": [
      "Error:\n",
      "Mean Absolute Error: 0.0\n",
      "Mean Square Error: 0.0\n",
      "Root Mean Sqaured Error: 0.0\n"
     ]
    }
   ],
   "source": [
    "print(\"Error:\")\n",
    "print(\"Mean Absolute Error:\",round(mean_absolute_error(y_test,pred_decision),2))\n",
    "print(\"Mean Square Error:\",round(mean_squared_error(y_test,pred_decision),2))\n",
    "print(\"Root Mean Sqaured Error:\",round(np.sqrt(mean_squared_error(y_test,pred_decision)),2))"
   ]
  },
  {
   "cell_type": "code",
   "execution_count": 41,
   "metadata": {
    "colab": {
     "base_uri": "https://localhost:8080/",
     "height": 412
    },
    "id": "ByzbhAw_Q5LD",
    "outputId": "d7615cbd-a088-4b55-9e36-18d034d45a9a"
   },
   "outputs": [
    {
     "data": {
      "image/png": "[encoded data removed]",
      "text/plain": [
       "<Figure size 576x432 with 1 Axes>"
      ]
     },
     "metadata": {
      "needs_background": "light"
     },
     "output_type": "display_data"
    }
   ],
   "source": [
    "plt.figure(figsize=(8,6))\n",
    "plt.scatter(x=y_test,y=pred_decision,color='r')\n",
    "plt.plot(y_test,y_test,color='b')\n",
    "plt.xlabel('Actual Credit Paid in 5 Days',fontsize=14)\n",
    "plt.ylabel('Predicted Credit Paid in 5 Days',fontsize=14)\n",
    "plt.title('Decision Tree Regression',fontsize=18)\n",
    "plt.show()"
   ]
  },
  {
   "cell_type": "markdown",
   "metadata": {
    "id": "7WK_dr07RV41"
   },
   "source": [
    "R2 score and CV Score are 100 , All The Points are interacting with predicted line"
   ]
  },
  {
   "cell_type": "markdown",
   "metadata": {
    "id": "9fUvXMQvRcdK"
   },
   "source": [
    "Random Forest"
   ]
  },
  {
   "cell_type": "code",
   "execution_count": 42,
   "metadata": {
    "colab": {
     "base_uri": "https://localhost:8080/"
    },
    "id": "M4z_si8GRFnn",
    "outputId": "2959f6bc-51e4-413a-9410-32fe6b99d8bd"
   },
   "outputs": [
    {
     "name": "stdout",
     "output_type": "stream",
     "text": [
      "{'criterion': 'mse', 'n_estimators': 100}\n"
     ]
    }
   ],
   "source": [
    "from sklearn.ensemble import RandomForestRegressor\n",
    "parameters={'criterion':['mse','friedman_mse','mse'],'n_estimators':[100,200,300]}\n",
    "rf=RandomForestRegressor()\n",
    "clf=GridSearchCV(rf,parameters)\n",
    "clf.fit(x_train,y_train)\n",
    "print (clf.best_params_)"
   ]
  },
  {
   "cell_type": "code",
   "execution_count": 43,
   "metadata": {
    "colab": {
     "base_uri": "https://localhost:8080/"
    },
    "id": "znzIVSgMRgeJ",
    "outputId": "ebd19814-9007-4bf4-c4bb-41de346a3eb1"
   },
   "outputs": [
    {
     "name": "stdout",
     "output_type": "stream",
     "text": [
      "r2_score: 100.0\n",
      "Cross Val Score: 100.0\n"
     ]
    }
   ],
   "source": [
    "rf=RandomForestRegressor(criterion='mse', n_estimators= 100)\n",
    "rf.fit(x_train,y_train)\n",
    "rf.score(x_train,y_train)\n",
    "pred_rd=rf.predict(x_test)\n",
    "rfs=r2_score(y_test,pred_rd)\n",
    "print(\"r2_score:\",rfs*100)\n",
    "rfscore = cross_val_score(rf,x_t,y,cv=3)\n",
    "rfc=rfscore.mean()\n",
    "print('Cross Val Score:',rfc*100)"
   ]
  },
  {
   "cell_type": "code",
   "execution_count": 44,
   "metadata": {
    "colab": {
     "base_uri": "https://localhost:8080/",
     "height": 412
    },
    "id": "efBwIWbdUypW",
    "outputId": "46421ca3-7bb8-4f09-9b89-f42da8c70e02"
   },
   "outputs": [
    {
     "data": {
      "image/png": "[encoded data removed]",
      "text/plain": [
       "<Figure size 576x432 with 1 Axes>"
      ]
     },
     "metadata": {
      "needs_background": "light"
     },
     "output_type": "display_data"
    }
   ],
   "source": [
    "plt.figure(figsize=(8,6))\n",
    "plt.scatter(x=y_test,y=pred_rd,color='r')\n",
    "plt.plot(y_test,y_test,color='b')\n",
    "plt.xlabel('Actual Credit Paid in 5 Days',fontsize=14)\n",
    "plt.ylabel('Predicted Credit Paid in 5 Days',fontsize=14)\n",
    "plt.title('Random Forest Regressor',fontsize=18)\n",
    "plt.show()"
   ]
  },
  {
   "cell_type": "markdown",
   "metadata": {
    "id": "qveulDWUVFZ0"
   },
   "source": [
    "In Random Forest Regressor also Data points are intracting with the predicted lines"
   ]
  },
  {
   "cell_type": "markdown",
   "metadata": {
    "id": "JxB_PHzMVXBW"
   },
   "source": [
    "Gradient Bosster Regressor"
   ]
  },
  {
   "cell_type": "code",
   "execution_count": 46,
   "metadata": {
    "colab": {
     "base_uri": "https://localhost:8080/",
     "height": 235
    },
    "id": "DgwpcUK2VAQe",
    "outputId": "ae3c57cb-1cc8-49b4-c6d4-76f4e4f74f98"
   },
   "outputs": [
    {
     "name": "stdout",
     "output_type": "stream",
     "text": [
      "{'criterion': 'friedman_mse', 'loss': 'ls', 'n_estimators': 200}\n"
     ]
    }
   ],
   "source": [
    "from sklearn.ensemble import GradientBoostingRegressor\n",
    "parameters={'loss':['ls','lad','huber','quantile'],'n_estimators':[50,100,200],'criterion':['friedman_mse','mse']}\n",
    "gbr=GradientBoostingRegressor()\n",
    "clf=GridSearchCV(gbr,parameters)\n",
    "clf.fit(x_train,y_train)\n",
    "print(clf.best_params_)\n"
   ]
  },
  {
   "cell_type": "code",
   "execution_count": 47,
   "metadata": {
    "id": "hQr4azcxVdAR"
   },
   "outputs": [
    {
     "name": "stdout",
     "output_type": "stream",
     "text": [
      "r2_score: 100.0\n",
      "Cross Val Score: 100.0\n"
     ]
    }
   ],
   "source": [
    "gbr=GradientBoostingRegressor(criterion='friedman_mse', loss='ls',n_estimators=100)\n",
    "gbr.fit(x_train,y_train)\n",
    "gbr.score(x_train,y_train)\n",
    "pred_random=gbr.predict(x_test)\n",
    "gbrs=r2_score(y_test,pred_random)\n",
    "print(\"r2_score:\",round(gbrs*100,2))\n",
    "gbscore = cross_val_score(gbr,x_t,y,cv=3)\n",
    "gbrc=gbscore.mean()\n",
    "print('Cross Val Score:',round(gbrc*100,2))\n"
   ]
  },
  {
   "cell_type": "code",
   "execution_count": 48,
   "metadata": {
    "id": "U1agBP-KYEec"
   },
   "outputs": [
    {
     "data": {
      "image/png": "[encoded data removed]",
      "text/plain": [
       "<Figure size 576x432 with 1 Axes>"
      ]
     },
     "metadata": {
      "needs_background": "light"
     },
     "output_type": "display_data"
    }
   ],
   "source": [
    "plt.figure(figsize=(8,6))\n",
    "plt.scatter(x=y_test,y=pred_random,color='r')\n",
    "plt.plot(y_test,y_test,color='b')\n",
    "plt.xlabel('Actual Credit Paid in 5 Days',fontsize=14)\n",
    "plt.ylabel('Predicted Credit Paid in 5 Days',fontsize=14)\n",
    "plt.title('GradientBoostingRegressor',fontsize=18)\n",
    "plt.show()\n"
   ]
  },
  {
   "cell_type": "markdown",
   "metadata": {
    "id": "v2pEmMbvYgOd"
   },
   "source": [
    "All Data points in this model also interseting with Predicted Line"
   ]
  },
  {
   "cell_type": "markdown",
   "metadata": {
    "id": "3fM9lCqcYwnp"
   },
   "source": [
    "Support Vector Regressor"
   ]
  },
  {
   "cell_type": "code",
   "execution_count": null,
   "metadata": {
    "id": "9VkVRze2YT1p"
   },
   "outputs": [],
   "source": [
    "from sklearn.svm import SVR\n",
    "parameters = {'kernel':['linear','poly','rbf','sigmoid']}\n",
    "sv=SVR()\n",
    "clf=GridSearchCV(sv,parameters)\n",
    "clf.fit(x_train,y_train)\n",
    "print(clf.best_params_)"
   ]
  },
  {
   "cell_type": "code",
   "execution_count": null,
   "metadata": {
    "id": "ohhxrI6aY0-0"
   },
   "outputs": [],
   "source": [
    "sv=SVR(kernel='linear',gamma='auto')\n",
    "sv.fit(x_train,y_train)\n",
    "sv.score(x_train,y_train)\n",
    "pred_vector=sv.predict(x_test)\n",
    "svs=r2_score(y_test,pred_vector)\n",
    "print(\"r2_score:\",round(svs*100,2))\n",
    "svscore = cross_val_score(sv,x_t,y,cv=3)\n",
    "svc=svscore.mean()\n",
    "print('Cross Val Score:',round(svc*100,2))\n"
   ]
  },
  {
   "cell_type": "markdown",
   "metadata": {},
   "source": [
    "Testing "
   ]
  },
  {
   "cell_type": "code",
   "execution_count": null,
   "metadata": {},
   "outputs": [],
   "source": [
    "import numpy as np\n",
    "a=np.array(y_test)\n",
    "a"
   ]
  },
  {
   "cell_type": "code",
   "execution_count": null,
   "metadata": {},
   "outputs": [],
   "source": [
    "df_com=pd.DataFrame({\"Original\":a,\"Predicted\":pred_decision},index=range(len(a)))\n",
    "df_com"
   ]
  },
  {
   "cell_type": "code",
   "execution_count": null,
   "metadata": {},
   "outputs": [],
   "source": [
    "import pickle\n",
    "filename='AR_Project3.pkl'\n",
    "pickle.dump(ls,open(filename,'wb'))"
   ]
  }
 ],
 "metadata": {
  "colab": {
   "collapsed_sections": [],
   "name": "Microcredit.ipynb",
   "provenance": []
  },
  "kernelspec": {
   "display_name": "Python 3",
   "language": "python",
   "name": "python3"
  },
  "language_info": {
   "codemirror_mode": {
    "name": "ipython",
    "version": 3
   },
   "file_extension": ".py",
   "mimetype": "text/x-python",
   "name": "python",
   "nbconvert_exporter": "python",
   "pygments_lexer": "ipython3",
   "version": "3.8.3"
  }
 },
 "nbformat": 4,
 "nbformat_minor": 1
}
